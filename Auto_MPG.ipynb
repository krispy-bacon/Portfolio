{
 "cells": [
  {
   "cell_type": "markdown",
   "metadata": {},
   "source": [
    "\n",
    "<h2 id=\"Project:-PCA-and-tSNE\">Project: PCA and tSNE<a class=\"anchor-link\" href=\"#Project:-PCA-and-tSNE\">¶</a></h2><h2 ></h2><p>Welcome to the project on PCA and tSNE. In this project. We will be using the auto-mpg dataset.</p>\n",
    "<hr/>\n",
    "<h2 id=\"Objective:\">Objective:<a class=\"anchor-link\" href=\"#Objective:\">¶</a></h2><hr/>\n",
    "<p>The objective of this problem is to explore the data and reduce the number of features by using dimensionality reduction techniques like PCA and TSNE and generate meaningful insights.</p>\n",
    "<hr/>\n",
    "<h2 id=\"Dataset:\">Dataset:<a class=\"anchor-link\" href=\"#Dataset:\">¶</a></h2><hr/>\n",
    "<p>There are 8 variables in the data:</p>\n",
    "<ul>\n",
    "<li>mpg: miles per gallon</li>\n",
    "<li>cyl: number of cylinders</li>\n",
    "<li>disp: engine displacement (cu. inches) or engine size</li>\n",
    "<li>hp: horsepower</li>\n",
    "<li>wt: vehicle weight (lbs.)</li>\n",
    "<li>acc: time taken to accelerate from O to 60 mph (sec.)</li>\n",
    "<li>yr: model year</li>\n",
    "<li>car name: car model name</li>\n",
    "</ul>\n"
   ]
  },
  {
   "cell_type": "markdown",
   "metadata": {},
   "source": [
    "\n",
    "<h2 id=\"Importing-necessary-libraries-and-overview-of-the-dataset\">Importing necessary libraries and overview of the dataset<a class=\"anchor-link\" href=\"#Importing-necessary-libraries-and-overview-of-the-dataset\">¶</a></h2>\n"
   ]
  },
  {
   "cell_type": "code",
   "execution_count": null,
   "metadata": {},
   "outputs": [],
   "source": [
    "\n",
    "\n",
    "import pandas as pd\n",
    "import numpy as np\n",
    "import matplotlib.pyplot as plt\n",
    "import seaborn as sns\n",
    "\n",
    "#to scale the data using z-score \n",
    "from sklearn.preprocessing import StandardScaler\n",
    "\n",
    "#importing PCA and TSNE\n",
    "from sklearn.decomposition import PCA\n",
    "from sklearn.manifold import TSNE\n",
    "\n",
    "\n"
   ]
  },
  {
   "cell_type": "markdown",
   "metadata": {},
   "source": [
    "\n",
    "<h4 id=\"Loading-data\">Loading data<a class=\"anchor-link\" href=\"#Loading-data\">¶</a></h4>\n"
   ]
  },
  {
   "cell_type": "code",
   "execution_count": null,
   "metadata": {},
   "outputs": [],
   "source": [
    "\n",
    "\n",
    "data = pd.read_csv(\"auto-mpg.csv\")\n",
    "\n",
    "\n"
   ]
  },
  {
   "cell_type": "code",
   "execution_count": null,
   "metadata": {},
   "outputs": [],
   "source": [
    "\n",
    "\n",
    "data.head()\n",
    "\n",
    "\n"
   ]
  },
  {
   "cell_type": "markdown",
   "metadata": {},
   "source": [
    "\n",
    "<h4 id=\"Check-the-info-of-the-data\">Check the info of the data<a class=\"anchor-link\" href=\"#Check-the-info-of-the-data\">¶</a></h4>\n"
   ]
  },
  {
   "cell_type": "code",
   "execution_count": null,
   "metadata": {},
   "outputs": [],
   "source": [
    "\n",
    "\n",
    "data.info()\n",
    "\n",
    "\n"
   ]
  },
  {
   "cell_type": "markdown",
   "metadata": {},
   "source": [
    "\n",
    "<p><strong>Observations:</strong></p>\n",
    "<ul>\n",
    "<li>There are 398 observations and 8 columns in the data.</li>\n",
    "<li>All variables except horsepower and car name are of numeric data type.</li>\n",
    "<li>The horsepower must be a numeric data type. We will explore this further.</li>\n",
    "</ul>\n"
   ]
  },
  {
   "cell_type": "markdown",
   "metadata": {},
   "source": [
    "\n",
    "<h2 id=\"Data-Preprocessing-and-Exploratory-Data-Analysis\">Data Preprocessing and Exploratory Data Analysis<a class=\"anchor-link\" href=\"#Data-Preprocessing-and-Exploratory-Data-Analysis\">¶</a></h2>\n"
   ]
  },
  {
   "cell_type": "code",
   "execution_count": null,
   "metadata": {},
   "outputs": [],
   "source": [
    "\n",
    "\n",
    "data[\"car name\"].nunique()\n",
    "\n",
    "\n"
   ]
  },
  {
   "cell_type": "markdown",
   "metadata": {},
   "source": [
    "\n",
    "<ul>\n",
    "<li>The column 'car name' is of object data type containing a lot of unique entries and would not add values to our analysis. We can drop this column.</li>\n",
    "</ul>\n"
   ]
  },
  {
   "cell_type": "code",
   "execution_count": null,
   "metadata": {},
   "outputs": [],
   "source": [
    "\n",
    "\n",
    "# dropping car_name\n",
    "data1 = data.copy()\n",
    "data = data.drop(['car name'], axis=1)\n",
    "\n",
    "\n"
   ]
  },
  {
   "cell_type": "markdown",
   "metadata": {},
   "source": [
    "\n",
    "<h4 id=\"Checking-values-in-horsepower-column\">Checking values in horsepower column<a class=\"anchor-link\" href=\"#Checking-values-in-horsepower-column\">¶</a></h4>\n"
   ]
  },
  {
   "cell_type": "code",
   "execution_count": null,
   "metadata": {},
   "outputs": [],
   "source": [
    "\n",
    "\n",
    "# checking if there are values other than digits in the column 'horsepower' \n",
    "hpIsDigit = pd.DataFrame(data.horsepower.str.isdigit())  # if the string is made of digits store True else False\n",
    "\n",
    "# print isDigit = False!\n",
    "data[hpIsDigit['horsepower'] == False]   # from temp take only those rows where hp has false\n",
    "\n",
    "\n"
   ]
  },
  {
   "cell_type": "markdown",
   "metadata": {},
   "source": [
    "\n",
    "<p><strong>Observations:</strong></p>\n",
    "<ul>\n",
    "<li>There are 6 observations where horsepower is ?.</li>\n",
    "<li>We can consider these values as missing values.</li>\n",
    "<li>Let's impute these missing values and change the data type of horsepower column.</li>\n",
    "<li>First we need to replace the ? with np.nan.</li>\n",
    "</ul>\n"
   ]
  },
  {
   "cell_type": "code",
   "execution_count": null,
   "metadata": {},
   "outputs": [],
   "source": [
    "\n",
    "\n",
    "#Relacing ? with np.nan\n",
    "data = data.replace('?', np.nan)\n",
    "data[hpIsDigit['horsepower'] == False]\n",
    "\n",
    "\n"
   ]
  },
  {
   "cell_type": "code",
   "execution_count": null,
   "metadata": {},
   "outputs": [],
   "source": [
    "\n",
    "\n",
    "# Imputing the missing values with median value\n",
    "data.horsepower.fillna(data.horsepower.median(), inplace=True)\n",
    "data['horsepower'] = data['horsepower'].astype('float64')  # converting the hp column from object data type to float\n",
    "\n",
    "\n"
   ]
  },
  {
   "cell_type": "markdown",
   "metadata": {},
   "source": [
    "\n",
    "<h4 id=\"Summary-Statistics\">Summary Statistics<a class=\"anchor-link\" href=\"#Summary-Statistics\">¶</a></h4>\n"
   ]
  },
  {
   "cell_type": "markdown",
   "metadata": {},
   "source": [
    "\n",
    "<h4 id=\"Question-1:\">Question 1:<a class=\"anchor-link\" href=\"#Question-1:\">¶</a></h4><ul>\n",
    "<li><strong>Check the summary statistics of the data (use describe function) (1 Mark)</strong></li>\n",
    "<li><strong>Write your observations (1 Mark)</strong></li>\n",
    "</ul>\n"
   ]
  },
  {
   "cell_type": "code",
   "execution_count": null,
   "metadata": {},
   "outputs": [],
   "source": [
    "\n",
    "\n",
    "#Write your code here\n",
    "data.describe()\n",
    "\n",
    "\n"
   ]
  },
  {
   "cell_type": "markdown",
   "metadata": {},
   "source": [
    "\n",
    "<p><strong>Observations:for mgp, weight, acceleration, and model year the means and medians are close to the same value.\n",
    " Displacement has a large standard deviation, relative to the mean.\n",
    " All cars are between 1970 and 1982</strong></p>\n"
   ]
  },
  {
   "cell_type": "markdown",
   "metadata": {},
   "source": [
    "\n",
    "<h4 id=\"Let's-check-the-distribution-and-outliers-for-each-column-in-the-data\">Let's check the distribution and outliers for each column in the data<a class=\"anchor-link\" href=\"#Let's-check-the-distribution-and-outliers-for-each-column-in-the-data\">¶</a></h4>\n"
   ]
  },
  {
   "cell_type": "markdown",
   "metadata": {},
   "source": [
    "\n",
    "\n",
    "<li><strong>Create the histogram to check distribution of all variables (use .hist() attribute)</strong></li>\n",
    "<li><strong>Create boxplot to visualize outliers for all variables (use sns.boxplot()) </strong></li>\n",
    "<li><strong>Write your observations </strong></li>\n",
    "</ul>\n"
   ]
  },
  {
   "cell_type": "code",
   "execution_count": null,
   "metadata": {},
   "outputs": [],
   "source": [
    "\n",
    "\n",
    "# Uncomment and complete the code by filling the blanks \n",
    "\n",
    "for col in data.columns:\n",
    "     print(col)\n",
    "     print('Skew :',round(data[col].skew(),2))\n",
    "     plt.figure(figsize=(15,4))\n",
    "     plt.subplot(1,2,1)\n",
    "     data[col].hist()\n",
    "     plt.ylabel('count')\n",
    "     plt.subplot(1,2,2)\n",
    "     sns.boxplot(x=data[col])\n",
    "     plt.show()\n",
    "\n",
    "\n"
   ]
  },
  {
   "cell_type": "markdown",
   "metadata": {},
   "source": [
    "\n",
    "<p><strong>Observations:Acceleration looks to be normally distributed. \n",
    "               Horsepower has quite a few outliers on the high side\n",
    "               Model year resembles a uniform distribution</strong></p>\n"
   ]
  },
  {
   "cell_type": "markdown",
   "metadata": {},
   "source": [
    "\n",
    "<h4 id=\"Checking-correlation\">Checking correlation<a class=\"anchor-link\" href=\"#Checking-correlation\">¶</a></h4>\n"
   ]
  },
  {
   "cell_type": "code",
   "execution_count": null,
   "metadata": {},
   "outputs": [],
   "source": [
    "\n",
    "\n",
    "plt.figure(figsize=(8,8))\n",
    "sns.heatmap(data.corr(), annot=True)\n",
    "plt.show()\n",
    "\n",
    "\n"
   ]
  },
  {
   "cell_type": "markdown",
   "metadata": {},
   "source": [
    "\n",
    "<p><strong>Observations:</strong></p>\n",
    "<ul>\n",
    "<li>The variable mpg has strong negative correlation with cylinders, displacement, horsepower, and weight.</li>\n",
    "<li>horsepower and acceleration are negatively correlated.</li>\n",
    "<li>The variable weight has strong positively correlation with horsepower, displacement and cylinders</li>\n",
    "<li>model year is positively correlated with mpg.</li>\n",
    "</ul>\n"
   ]
  },
  {
   "cell_type": "markdown",
   "metadata": {},
   "source": [
    "\n",
    "<h4 id=\"Scaling-the-data\">Scaling the data<a class=\"anchor-link\" href=\"#Scaling-the-data\">¶</a></h4>\n"
   ]
  },
  {
   "cell_type": "code",
   "execution_count": null,
   "metadata": {},
   "outputs": [],
   "source": [
    "\n",
    "\n",
    "# scaling the data\n",
    "scaler=StandardScaler()\n",
    "data_scaled=pd.DataFrame(scaler.fit_transform(data), columns=data.columns)\n",
    "\n",
    "\n"
   ]
  },
  {
   "cell_type": "code",
   "execution_count": null,
   "metadata": {},
   "outputs": [],
   "source": [
    "\n",
    "\n",
    "data_scaled.head()\n",
    "\n",
    "\n"
   ]
  },
  {
   "cell_type": "markdown",
   "metadata": {},
   "source": [
    "\n",
    "<h2 id=\"Principal-Component-Analysis\">Principal Component Analysis<a class=\"anchor-link\" href=\"#Principal-Component-Analysis\">¶</a></h2>\n"
   ]
  },
  {
   "cell_type": "markdown",
   "metadata": {},
   "source": [
    "\n",
    "<li><strong>Apply the PCA algorithm with number of components equal to the total number of columns in the data with random_state=1 </strong></li>\n",
    "<li><strong>Write observations on the variance explained by components </strong></li>\n",
    "</ul>\n"
   ]
  },
  {
   "cell_type": "code",
   "execution_count": null,
   "metadata": {},
   "outputs": [],
   "source": [
    "\n",
    "\n",
    "#Defining the number of principal components to generate \n",
    "n=data_scaled.shape[1]\n",
    "\n",
    "#Finding principal components for the data\n",
    "pca = PCA(n_components = n) #Apply the PCA algorithm with random state = 1\n",
    "data_pca1 = pd.DataFrame(pca.fit_transform(data)) #Fit and transform the pca function on scaled data\n",
    "\n",
    "#The percentage of variance explained by each principal component\n",
    "exp_var = pca.explained_variance_ratio_\n",
    "\n",
    "\n"
   ]
  },
  {
   "cell_type": "code",
   "execution_count": null,
   "metadata": {},
   "outputs": [],
   "source": [
    "\n",
    "\n",
    "# visualize the explained variance by individual components\n",
    "plt.figure(figsize = (10,10))\n",
    "plt.plot(range(1,8), exp_var.cumsum(), marker = 'o', linestyle = '--')\n",
    "plt.title(\"Explained Variances by Components\")\n",
    "plt.xlabel(\"Number of Components\")\n",
    "plt.ylabel(\"Cumulative Explained Variance\")\n",
    "\n",
    "\n"
   ]
  },
  {
   "cell_type": "code",
   "execution_count": null,
   "metadata": {},
   "outputs": [],
   "source": [
    "\n",
    "\n",
    "# find the least number of components that can explain more than 90% variance\n",
    "sum = 0\n",
    "for ix, i in enumerate(exp_var):\n",
    "  sum = sum + i\n",
    "  if(sum>0.90):\n",
    "    print(\"Number of PCs that explain at least 90% variance: \", ix+1)\n",
    "    break\n",
    "\n",
    "\n"
   ]
  },
  {
   "cell_type": "markdown",
   "metadata": {},
   "source": [
    "\n",
    "<p><strong>Observations:The first principle component contains the majority, over 99%, of the variance. The rest of it is contained in 2,3, and 4. </strong></p>\n"
   ]
  },
  {
   "cell_type": "code",
   "execution_count": null,
   "metadata": {},
   "outputs": [],
   "source": [
    "\n",
    "\n",
    "pc_comps = ['PC1','PC2','PC3']\n",
    "data_pca = pd.DataFrame(np.round(pca.components_[:3,:],2),index=pc_comps,columns=data_scaled.columns)\n",
    "data_pca.T\n",
    "\n",
    "\n"
   ]
  },
  {
   "cell_type": "markdown",
   "metadata": {},
   "source": [
    "<strong>Interpret the coefficients of three principal components from the below dataframe</strong><a class=\"anchor-link\" href=\"#Question-4:-Interpret-the-coefficients-of-three-principal-components-from-the-below-dataframe-(6-Marks)\">¶</a></h4>\n"
   ]
  },
  {
   "cell_type": "code",
   "execution_count": null,
   "metadata": {},
   "outputs": [],
   "source": [
    "\n",
    "\n",
    "def color_high(val):\n",
    "    if val <= -0.040: # you can decide any value as per your understanding\n",
    "        return 'background: pink'\n",
    "    elif val >= 0.40:\n",
    "        return 'background: skyblue'   \n",
    "    \n",
    "data_pca.T.style.applymap(color_high)\n",
    "\n",
    "\n"
   ]
  },
  {
   "cell_type": "markdown",
   "metadata": {},
   "source": [
    "\n",
    "<p><strong>Observations:For PC1 the hightest variance is weight but this also has the strongest negative variance for PC2.\n",
    "The strongest variance for PC2 is displacement, one of the strongest negatives for PC3.</strong></p>\n"
   ]
  },
  {
   "cell_type": "markdown",
   "metadata": {},
   "source": [
    "\n",
    "<h4 id=\"We-can-also-visualize-the-data-in-2-dimensions-using-first-two-principal-components\">We can also visualize the data in 2 dimensions using first two principal components<a class=\"anchor-link\" href=\"#We-can-also-visualize-the-data-in-2-dimensions-using-first-two-principal-components\">¶</a></h4>\n"
   ]
  },
  {
   "cell_type": "code",
   "execution_count": null,
   "metadata": {},
   "outputs": [],
   "source": [
    "\n",
    "\n",
    "plt.figure(figsize = (7,7))\n",
    "sns.scatterplot(x=data_pca1[0],y=data_pca1[1])\n",
    "plt.xlabel(\"PC1\")\n",
    "plt.ylabel(\"PC2\")\n",
    "plt.show()\n",
    "\n",
    "\n"
   ]
  },
  {
   "cell_type": "markdown",
   "metadata": {},
   "source": [
    "\n",
    "<p><strong>Let's try adding hue to the scatter plot</strong></p>\n"
   ]
  },
  {
   "cell_type": "markdown",
   "metadata": {},
   "source": [
    "\n",
    "<li><strong>Create a scatter plot for first two principal components with hue = 'cylinders'</strong> </li>\n",
    "<li><strong>Write your observations on the plot</strong></li>\n",
    "</ul>\n"
   ]
  },
  {
   "cell_type": "code",
   "execution_count": null,
   "metadata": {},
   "outputs": [],
   "source": [
    "\n",
    "\n",
    "df_concat = pd.concat([data_pca1, data], axis=1)\n",
    "\n",
    "plt.figure(figsize = (7,7))\n",
    "#Create a scatter plot with x=0 and y=1 using df_concat dataframe\n",
    "sns.scatterplot(x=df_concat[0],y=df_concat[1], hue = df_concat[\"cylinders\"])\n",
    "plt.xlabel(\"PC1\")\n",
    "plt.ylabel(\"PC2\")\n",
    "\n",
    "\n"
   ]
  },
  {
   "cell_type": "markdown",
   "metadata": {},
   "source": [
    "\n",
    "<p><strong>Observations:We appear to have 3 distinct groups with a few random spots thrown in. There are seems to be a trend from PC1 and PC2 for all 3 groups. </strong></p>\n"
   ]
  },
  {
   "cell_type": "markdown",
   "metadata": {},
   "source": [
    "\n",
    "<h2 id=\"t-SNE\">t-SNE<a class=\"anchor-link\" href=\"#t-SNE\">¶</a></h2>\n"
   ]
  },
  {
   "cell_type": "markdown",
   "metadata": {},
   "source": [
    "\n",
    "<li><strong>Apply the TSNE embedding with 2 components for the dataframe data_scaled (use random_state=1) </strong></li>\n",
    "<li><strong>Write your observations on the below scatter plots </strong> </li>\n",
    "</ul>\n"
   ]
  },
  {
   "cell_type": "code",
   "execution_count": null,
   "metadata": {},
   "outputs": [],
   "source": [
    "\n",
    "\n",
    "tsne = TSNE(n_components = 2, random_state=1)  #Apply the TSNE algorithm with random state = 1\n",
    "data_tsne = tsne.fit_transform(data_scaled) #Fit and transform tsne function on the scaled data\n",
    "\n",
    "\n"
   ]
  },
  {
   "cell_type": "code",
   "execution_count": null,
   "metadata": {},
   "outputs": [],
   "source": [
    "\n",
    "\n",
    "data_tsne.shape\n",
    "\n",
    "\n"
   ]
  },
  {
   "cell_type": "code",
   "execution_count": null,
   "metadata": {},
   "outputs": [],
   "source": [
    "\n",
    "\n",
    "data_tsne = pd.DataFrame(data = data_tsne, columns = ['Component 1', 'Component 2'])\n",
    "\n",
    "\n"
   ]
  },
  {
   "cell_type": "code",
   "execution_count": null,
   "metadata": {},
   "outputs": [],
   "source": [
    "\n",
    "\n",
    "data_tsne.head()\n",
    "\n",
    "\n"
   ]
  },
  {
   "cell_type": "code",
   "execution_count": null,
   "metadata": {},
   "outputs": [],
   "source": [
    "\n",
    "\n",
    "sns.scatterplot(x=data_tsne.iloc[:,0],y=data_tsne.iloc[:,1])\n",
    "\n",
    "\n"
   ]
  },
  {
   "cell_type": "code",
   "execution_count": null,
   "metadata": {},
   "outputs": [],
   "source": [
    "\n",
    "\n",
    "# Let's see scatter plot of the data w.r.t number of cylinders\n",
    "sns.scatterplot(x=data_tsne.iloc[:,0],y=data_tsne.iloc[:,1],hue=data.cylinders)\n",
    "\n",
    "\n"
   ]
  },
  {
   "cell_type": "markdown",
   "metadata": {},
   "source": [
    "\n",
    "<p><strong>Observations:With 3 clusters shown, this shows there is a strong pattern to the data</strong></p>\n"
   ]
  },
  {
   "cell_type": "code",
   "execution_count": null,
   "metadata": {},
   "outputs": [],
   "source": [
    "\n",
    "\n",
    "# Let's assign points to 3 different groups\n",
    "def grouping(x):\n",
    "    first_component = x['Component 1']\n",
    "    second_component = x['Component 2']\n",
    "    if (first_component> 0) and (second_component >0): \n",
    "        return 'group_1'\n",
    "    if (first_component >-20 ) and (first_component < 5):\n",
    "        return 'group_2'\n",
    "    else: \n",
    "        return 'group_3'\n",
    "\n",
    "\n"
   ]
  },
  {
   "cell_type": "code",
   "execution_count": null,
   "metadata": {},
   "outputs": [],
   "source": [
    "\n",
    "\n",
    "data_tsne['groups'] = data_tsne.apply(grouping,axis=1)\n",
    "\n",
    "\n"
   ]
  },
  {
   "cell_type": "code",
   "execution_count": null,
   "metadata": {},
   "outputs": [],
   "source": [
    "\n",
    "\n",
    "sns.scatterplot(x=data_tsne.iloc[:,0],y=data_tsne.iloc[:,1],hue=data_tsne.iloc[:,2])\n",
    "\n",
    "\n"
   ]
  },
  {
   "cell_type": "code",
   "execution_count": null,
   "metadata": {},
   "outputs": [],
   "source": [
    "\n",
    "\n",
    "data['groups'] = data_tsne['groups'] \n",
    "\n",
    "\n"
   ]
  },
  {
   "cell_type": "markdown",
   "metadata": {},
   "source": [
    "\n",
    "<li><strong>Complete the following code by filling the blanks</strong></li>\n",
    "<li><strong>Write your observations on different groups w.r.t different variables</strong></li>\n",
    "</ul>\n"
   ]
  },
  {
   "cell_type": "code",
   "execution_count": null,
   "metadata": {},
   "outputs": [],
   "source": [
    "\n",
    "\n",
    "all_col = data.columns.tolist()\n",
    "plt.figure(figsize=(20, 20))\n",
    "\n",
    "for i, variable in enumerate(all_col):\n",
    "    if i==7:\n",
    "        break\n",
    "    plt.subplot(4, 2, i + 1)\n",
    "    #Create boxplot with groups on the x-axis and variable on the y-axis (use the dataframe data)\n",
    "    sns.boxplot(y=data[variable], x=data_tsne['groups'])\n",
    "    plt.tight_layout()\n",
    "    plt.title(variable)\n",
    "plt.show()\n",
    "\n",
    "\n"
   ]
  }
 ],
 "metadata": {
  "language_info": {
   "name": "python"
  }
 },
 "nbformat": 4,
 "nbformat_minor": 1
}

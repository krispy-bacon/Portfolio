{
 "cells": [
  {
   "cell_type": "markdown",
   "metadata": {},
   "source": [
    "\n",
    "<h2 id=\"Project:-Unsupervised-Learning\">Project: Unsupervised Learning<a class=\"anchor-link\" href=\"#Project:-Unsupervised-Learning\">¶</a></h2><hr/>\n",
    "</a></h2><p>Welcome to the project on Unsupervised Learning. We will be using the Credit Card Customer Data for this project.</p>\n",
    "<hr/>\n",
    "<h2 id=\"Context:\">Context:<a class=\"anchor-link\" href=\"#Context:\">¶</a></h2><hr/>\n",
    "<p>AllLife Bank wants to focus on its credit card customer base in the next financial year. They have been advised by their marketing research team, that the penetration in the market can be improved. Based on this input, the Marketing team proposes to run personalized campaigns to target new customers as well as upsell to existing customers. Another insight from the market research was that the customers perceive the support services of the back poorly. Based on this, the Operations team wants to upgrade the service delivery model, to ensure that customers queries are resolved faster. Head of Marketing and Head of Delivery both decide to reach out to the Data Science team for help.</p>\n",
    "<hr/>\n",
    "<h2 id=\"Objective:\">Objective:<a class=\"anchor-link\" href=\"#Objective:\">¶</a></h2><hr/>\n",
    "<p>Identify different segments in the existing customer based on their spending patterns as well as past interaction with the bank.</p>\n",
    "<hr/>\n",
    "<h2 id=\"About-the-data:\">About the data:<a class=\"anchor-link\" href=\"#About-the-data:\">¶</a></h2><hr/>\n",
    "<p>Data is of various customers of a bank with their credit limit, the total number of credit cards the customer has, and different channels through which customer has contacted the bank for any queries, different channels include visiting the bank, online and through a call centre.</p>\n",
    "<ul>\n",
    "<li>Sl_no - Customer Serial Number</li>\n",
    "<li>Customer Key - Customer identification</li>\n",
    "<li>Avg_Credit_Limit  - Average credit limit (currency is not specified, you can make an assumption around this)</li>\n",
    "<li>Total_Credit_Cards    - Total number of credit cards </li>\n",
    "<li>Total_visits_bank - Total bank visits</li>\n",
    "<li>Total_visits_online -  Total online visits</li>\n",
    "<li>Total_calls_made - Total calls made</li>\n",
    "</ul>\n"
   ]
  },
  {
   "cell_type": "markdown",
   "metadata": {},
   "source": [
    "\n",
    "<h2 id=\"Importing-libraries-and-overview-of-the-dataset\">Importing libraries and overview of the dataset<a class=\"anchor-link\" href=\"#Importing-libraries-and-overview-of-the-dataset\">¶</a></h2>\n"
   ]
  },
  {
   "cell_type": "code",
   "execution_count": null,
   "metadata": {},
   "outputs": [],
   "source": [
    "\n",
    "\n",
    "#Import all the necessary packages\n",
    "\n",
    "import pandas as pd\n",
    "import numpy as np\n",
    "\n",
    "import matplotlib.pylab as plt\n",
    "import seaborn as sns\n",
    "\n",
    "#to scale the data using z-score \n",
    "from sklearn.preprocessing import StandardScaler\n",
    "\n",
    "#importing clustering algorithms\n",
    "from sklearn.cluster import KMeans\n",
    "from sklearn.mixture import GaussianMixture\n",
    "\n",
    "\n",
    "#if the below line of code gives an error, then uncomment the following code to install the sklearn_extra library\n",
    "!pip install scikit-learn-extra\n",
    "from sklearn_extra.cluster import KMedoids\n",
    "\n",
    "import warnings\n",
    "warnings.filterwarnings(\"ignore\")\n",
    "\n",
    "\n"
   ]
  },
  {
   "cell_type": "markdown",
   "metadata": {},
   "source": [
    "\n",
    "<h4 id=\"Loading-data\">Loading data<a class=\"anchor-link\" href=\"#Loading-data\">¶</a></h4>\n"
   ]
  },
  {
   "cell_type": "code",
   "execution_count": null,
   "metadata": {},
   "outputs": [],
   "source": [
    "\n",
    "\n",
    "data = pd.read_excel('Credit Card Customer Data.xlsx')\n",
    "data.head()\n",
    "\n",
    "\n"
   ]
  },
  {
   "cell_type": "markdown",
   "metadata": {},
   "source": [
    "\n",
    "<h4 id=\"Check-the-info-of-the-data\">Check the info of the data<a class=\"anchor-link\" href=\"#Check-the-info-of-the-data\">¶</a></h4>\n"
   ]
  },
  {
   "cell_type": "code",
   "execution_count": null,
   "metadata": {},
   "outputs": [],
   "source": [
    "\n",
    "\n",
    "data.info()\n",
    "\n",
    "\n"
   ]
  },
  {
   "cell_type": "markdown",
   "metadata": {},
   "source": [
    "\n",
    "<p><strong>Observations:</strong></p>\n",
    "<ul>\n",
    "<li>There are 660 observations and 7 columns in the dataset.</li>\n",
    "<li>All columns have 660 non-null values i.e. there are no missing values.</li>\n",
    "<li>All columns are of int64 data type.</li>\n",
    "</ul>\n"
   ]
  },
  {
   "cell_type": "markdown",
   "metadata": {},
   "source": [
    "\n",
    "<p><strong>There are no missing values. Let us now figure out the uniques in each column.</strong></p>\n"
   ]
  },
  {
   "cell_type": "code",
   "execution_count": null,
   "metadata": {},
   "outputs": [],
   "source": [
    "\n",
    "\n",
    "data.nunique()\n",
    "\n",
    "\n"
   ]
  },
  {
   "cell_type": "markdown",
   "metadata": {},
   "source": [
    "\n",
    "<ul>\n",
    "<li>Customer key, which is an identifier, has repeated values. We should treat the same accordingly before applying any algorithm.</li>\n",
    "</ul>\n"
   ]
  },
  {
   "cell_type": "markdown",
   "metadata": {},
   "source": [
    "\n",
    "<h2 id=\"Data-Preprocessing-and-Exploratory-Data-Analysis\">Data Preprocessing and Exploratory Data Analysis<a class=\"anchor-link\" href=\"#Data-Preprocessing-and-Exploratory-Data-Analysis\">¶</a></h2>\n"
   ]
  },
  {
   "cell_type": "markdown",
   "metadata": {},
   "source": [
    "\n",
    "<h4 id=\"Question-1:-Identify-and-drop-the-rows-with-duplicated-customer-keys-(2-Marks)\"><strong>Question 1: Identify and drop the rows with duplicated customer keys (2 Marks)</strong><a class=\"anchor-link\" href=\"#Question-1:-Identify-and-drop-the-rows-with-duplicated-customer-keys-(2-Marks)\">¶</a></h4>\n"
   ]
  },
  {
   "cell_type": "code",
   "execution_count": null,
   "metadata": {},
   "outputs": [],
   "source": [
    "\n",
    "\n",
    "# Identify the duplicated customer keys\n",
    "duplicate_keys = data[data.duplicated(\"Customer Key\")]\n",
    "duplicate_keys\n",
    "\n",
    "\n"
   ]
  },
  {
   "cell_type": "code",
   "execution_count": null,
   "metadata": {},
   "outputs": [],
   "source": [
    "\n",
    "\n",
    "# Drop duplicated keys\n",
    "\n",
    "data = data.drop_duplicates(\"Customer Key\")\n",
    "\n",
    "\n"
   ]
  },
  {
   "cell_type": "markdown",
   "metadata": {},
   "source": [
    "\n",
    "<p>We have done some basic checks. Now, let's drop the variables that are not required for our analysis.</p>\n"
   ]
  },
  {
   "cell_type": "code",
   "execution_count": null,
   "metadata": {},
   "outputs": [],
   "source": [
    "\n",
    "\n",
    "data.drop(columns = ['Sl_No', 'Customer Key'], inplace = True)\n",
    "\n",
    "\n"
   ]
  },
  {
   "cell_type": "markdown",
   "metadata": {},
   "source": [
    "\n",
    "<p>Now that we have dropped unnecessary column. We can again check for duplicates. Duplicates would mean customers with identical features.</p>\n"
   ]
  },
  {
   "cell_type": "code",
   "execution_count": null,
   "metadata": {},
   "outputs": [],
   "source": [
    "\n",
    "\n",
    "data[data.duplicated()]\n",
    "\n",
    "\n"
   ]
  },
  {
   "cell_type": "markdown",
   "metadata": {},
   "source": [
    "\n",
    "<p>We can drop these duplicated rows from the data</p>\n"
   ]
  },
  {
   "cell_type": "code",
   "execution_count": null,
   "metadata": {},
   "outputs": [],
   "source": [
    "\n",
    "\n",
    "data=data[~data.duplicated()]\n",
    "\n",
    "\n"
   ]
  },
  {
   "cell_type": "code",
   "execution_count": null,
   "metadata": {},
   "outputs": [],
   "source": [
    "\n",
    "\n",
    "data.shape\n",
    "\n",
    "\n"
   ]
  },
  {
   "cell_type": "markdown",
   "metadata": {},
   "source": [
    "\n",
    "<ul>\n",
    "<li>After removing duplicated keys and rows and unnecessary columns, there are 644 unique observations and 5 columns in our data.</li>\n",
    "</ul>\n"
   ]
  },
  {
   "cell_type": "markdown",
   "metadata": {},
   "source": [
    "\n",
    "<h4 id=\"Summary-Statistics\">Summary Statistics<a class=\"anchor-link\" href=\"#Summary-Statistics\">¶</a></h4>\n"
   ]
  },
  {
   "cell_type": "markdown",
   "metadata": {},
   "source": [
    "\n",
    "<h4 id=\"Question-2:-Write-your-observations-on-the-summary-statistics-of-the-data-(1-Mark)\"><strong>Question 2: Write your observations on the summary statistics of the data (1 Mark)</strong><a class=\"anchor-link\" href=\"#Question-2:-Write-your-observations-on-the-summary-statistics-of-the-data-(1-Mark)\">¶</a></h4>\n"
   ]
  },
  {
   "cell_type": "code",
   "execution_count": null,
   "metadata": {},
   "outputs": [],
   "source": [
    "\n",
    "\n",
    "data.describe().T\n",
    "\n",
    "\n"
   ]
  },
  {
   "cell_type": "markdown",
   "metadata": {},
   "source": [
    "\n",
    "<p><strong>Observations:Avg_Credit_Limit is a wide range from 3000 to 200000\n",
    "               The mean for average crdit limit is significantly higher than the 50% with a std  deviation that is larger than the mean. \n",
    "               Least amount of credit cards someone has is 1 yet all the lows for bank vists, online visits, and calls is 0</strong></p>\n"
   ]
  },
  {
   "cell_type": "markdown",
   "metadata": {},
   "source": [
    "\n",
    "<h4 id=\"Now-let's-go-ahead-with-the-exploring-each-variable-at-hand.-We-will-check-the-distribution-and-outliers-for-each-variable-in-the-data.\">Now let's go ahead with the exploring each variable at hand. We will check the distribution and outliers for each variable in the data.<a class=\"anchor-link\" href=\"#Now-let's-go-ahead-with-the-exploring-each-variable-at-hand.-We-will-check-the-distribution-and-outliers-for-each-variable-in-the-data.\">¶</a></h4>\n"
   ]
  },
  {
   "cell_type": "markdown",
   "metadata": {},
   "source": [
    "\n",
    "<h4 id=\"Question-3:\">Question 3:<a class=\"anchor-link\" href=\"#Question-3:\">¶</a></h4><ul>\n",
    "<li><strong>Check the distribution of all variables (use .hist() attribute) (2 Marks)</strong></li>\n",
    "<li><strong>Check outliers for all variables (use sns.boxplot()) (2 Mark)</strong></li>\n",
    "<li><strong>Write your observations (1 Marks)</strong></li>\n",
    "</ul>\n"
   ]
  },
  {
   "cell_type": "code",
   "execution_count": null,
   "metadata": {},
   "outputs": [],
   "source": [
    "\n",
    "\n",
    "# Uncomment and complete the code by filling the blanks \n",
    "\n",
    "for col in data.columns:\n",
    "     print(col)\n",
    "     print('Skew :',round(data[col].skew(),2))\n",
    "     plt.figure(figsize=(15,4))\n",
    "     plt.subplot(1,2,1)\n",
    "     data[col].hist(bins = 10, grid = False)\n",
    "     plt.ylabel('count')\n",
    "     plt.subplot(1,2,2)\n",
    "     sns.boxplot(x=data[col])\n",
    "     plt.show()\n",
    "\n",
    "\n"
   ]
  },
  {
   "cell_type": "markdown",
   "metadata": {},
   "source": [
    "\n",
    "<p><strong>Observation:Average credit limit drops off drastically. It has many outliers abover 100000.The same can be seen with total online visits past 8. Both these data set are skewed to the left. All other data set are not nearly as skiewed and hardly any outliers.  </strong></p>\n"
   ]
  },
  {
   "cell_type": "markdown",
   "metadata": {},
   "source": [
    "\n",
    "<p><strong>Now, let's check the correlation among different variables.</strong></p>\n"
   ]
  },
  {
   "cell_type": "code",
   "execution_count": null,
   "metadata": {},
   "outputs": [],
   "source": [
    "\n",
    "\n",
    "plt.figure(figsize=(8,8))\n",
    "sns.heatmap(data.corr(), annot=True, fmt='0.2f')\n",
    "plt.show()\n",
    "\n",
    "\n"
   ]
  },
  {
   "cell_type": "markdown",
   "metadata": {},
   "source": [
    "\n",
    "<p><strong>Observation:</strong></p>\n",
    "<ul>\n",
    "<li>Avg_Credit_Limit is positively correlated with Total_Credit_Cards Total_visits_online which can makes sense.</li>\n",
    "<li>Avg_Credit_Limit is negatively correlated with Total_calls_made and Total_visits_bank.</li>\n",
    "<li>Total_visits_bank, Total_visits_online, Total_calls_made are negatively correlated which implies that majority of customers use only one of these channels to contact the bank.</li>\n",
    "</ul>\n"
   ]
  },
  {
   "cell_type": "markdown",
   "metadata": {},
   "source": [
    "\n",
    "<h4 id=\"Scaling-the-data\">Scaling the data<a class=\"anchor-link\" href=\"#Scaling-the-data\">¶</a></h4>\n"
   ]
  },
  {
   "cell_type": "code",
   "execution_count": null,
   "metadata": {},
   "outputs": [],
   "source": [
    "\n",
    "\n",
    "scaler=StandardScaler()\n",
    "data_scaled=pd.DataFrame(scaler.fit_transform(data), columns=data.columns)\n",
    "\n",
    "\n"
   ]
  },
  {
   "cell_type": "code",
   "execution_count": null,
   "metadata": {},
   "outputs": [],
   "source": [
    "\n",
    "\n",
    "data_scaled.head()\n",
    "\n",
    "\n"
   ]
  },
  {
   "cell_type": "code",
   "execution_count": null,
   "metadata": {},
   "outputs": [],
   "source": [
    "\n",
    "\n",
    "#Creating copy of the data to store labels from each algorithm\n",
    "data_scaled_copy = data_scaled.copy(deep=True)\n",
    "\n",
    "\n"
   ]
  },
  {
   "cell_type": "markdown",
   "metadata": {},
   "source": [
    "\n",
    "<h2 id=\"K-Means\">K-Means<a class=\"anchor-link\" href=\"#K-Means\">¶</a></h2>\n"
   ]
  },
  {
   "cell_type": "markdown",
   "metadata": {},
   "source": [
    "\n",
    "<p>Let us now fit k-means algorithm on our scaled data and find out the optimum number of clusters to use.</p>\n",
    "<p>We will do this in 3 steps:</p>\n",
    "<ol>\n",
    "<li>Initialize a dictionary to store the SSE for each k</li>\n",
    "<li>Run for a range of Ks and store SSE for each run</li>\n",
    "<li>Plot the SSE vs K and find the elbow</li>\n",
    "</ol>\n"
   ]
  },
  {
   "cell_type": "code",
   "execution_count": null,
   "metadata": {},
   "outputs": [],
   "source": [
    "\n",
    "\n",
    "# step 1\n",
    "sse = {} \n",
    "\n",
    "# step 2 - iterate for a range of Ks and fit the scaled data to the algorithm. Use inertia attribute from the clustering object and \n",
    "# store the inertia value for that k \n",
    "for k in range(1, 10):\n",
    "    kmeans = KMeans(n_clusters=k, max_iter=1000, random_state=1).fit(data_scaled)\n",
    "    sse[k] = kmeans.inertia_\n",
    "\n",
    "# step 3\n",
    "plt.figure()\n",
    "plt.plot(list(sse.keys()), list(sse.values()), 'bx-')\n",
    "plt.xlabel(\"Number of cluster\")\n",
    "plt.ylabel(\"SSE\")\n",
    "plt.show()\n",
    "\n",
    "\n"
   ]
  },
  {
   "cell_type": "markdown",
   "metadata": {},
   "source": [
    "\n",
    "<ul>\n",
    "<li>Looking at the plot, we can say that elbow point is achieved for k=3.</li>\n",
    "<li>We will fit the k-means again with k=3 to get the labels.</li>\n",
    "</ul>\n"
   ]
  },
  {
   "cell_type": "markdown",
   "metadata": {},
   "source": [
    "\n",
    "<h4 id=\"Question-4:\">Question 4:<a class=\"anchor-link\" href=\"#Question-4:\">¶</a></h4><ul>\n",
    "<li><strong>From the above elbow plot, state the reason for choosing k=3 and with random_state=1(1 Mark)</strong></li>\n",
    "<li><strong>Fit the K-means algorithms on the scaled data with number of cluster equal to 3 (2 Mark)</strong></li>\n",
    "<li><strong>Store the predictions as 'Labels' to the 'data_scaled_copy' and 'data' dataframes (2 Marks)</strong></li>\n",
    "</ul>\n"
   ]
  },
  {
   "cell_type": "code",
   "execution_count": null,
   "metadata": {},
   "outputs": [],
   "source": [
    "\n",
    "\n",
    "kmeans = KMeans(n_clusters=3, random_state=1) #Apply the K-Means algorithm\n",
    "kmeans.fit(data_scaled) #Fit the kmeans function on the scaled data\n",
    "\n",
    "#Adding predicted labels to the original data and scaled data \n",
    "data_scaled_copy['Labels'] = kmeans.predict(data_scaled) #Save the predictions on the scaled data from K-Means\n",
    "data['Labels'] = kmeans.predict(data_scaled) #Save the predictions on the scaled data from K-Means\n",
    "\n",
    "\n"
   ]
  },
  {
   "cell_type": "markdown",
   "metadata": {},
   "source": [
    "\n",
    "<p>We have generated the labels with k-means. Let us look at the various features based on the labels.</p>\n"
   ]
  },
  {
   "cell_type": "markdown",
   "metadata": {},
   "source": [
    "\n",
    "<h4 id=\"Question-5:-Create-cluster-profiles-using-the-below-summary-statistics-and-box-plots-for-each-label-(6-Marks)\"><strong>Question 5: Create cluster profiles using the below summary statistics and box plots for each label (6 Marks)</strong><a class=\"anchor-link\" href=\"#Question-5:-Create-cluster-profiles-using-the-below-summary-statistics-and-box-plots-for-each-label-(6-Marks)\">¶</a></h4>\n"
   ]
  },
  {
   "cell_type": "code",
   "execution_count": null,
   "metadata": {},
   "outputs": [],
   "source": [
    "\n",
    "\n",
    "#Number of observations in each cluster\n",
    "data.Labels.value_counts()\n",
    "\n",
    "\n"
   ]
  },
  {
   "cell_type": "code",
   "execution_count": null,
   "metadata": {},
   "outputs": [],
   "source": [
    "\n",
    "\n",
    "#Calculating summary statistics of the original data for each label\n",
    "mean = data.groupby('Labels').mean()\n",
    "median = data.groupby('Labels').median()\n",
    "df_kmeans = pd.concat([mean, median], axis=0)\n",
    "df_kmeans.index = ['group_0 Mean', 'group_1 Mean', 'group_2 Mean', 'group_0 Median', 'group_1 Median', 'group_2 Median']\n",
    "df_kmeans.T\n",
    "\n",
    "\n"
   ]
  },
  {
   "cell_type": "code",
   "execution_count": null,
   "metadata": {},
   "outputs": [],
   "source": [
    "\n",
    "\n",
    "#Visualizing different features w.r.t K-means labels\n",
    "data_scaled_copy.boxplot(by = 'Labels', layout = (1,5),figsize=(20,7))\n",
    "plt.show()\n",
    "\n",
    "\n"
   ]
  },
  {
   "cell_type": "markdown",
   "metadata": {},
   "source": [
    "\n",
    "<p><strong>Cluster Profiles:Profile 1 has the least amount of credit which makes sense since they have the least amount of credit cards as well. This groups seems more apt to calling inot the bank as apposed to visiting in person or online\n",
    "Profile 2 is in the middle. They sit around the middle of all the data in all the statistics. Profile 3 has the most credit cards which causes them to have the highest credit limit. They also seem more apt to using the banks online features and do not call or visit the bank. </strong></p>\n"
   ]
  },
  {
   "cell_type": "markdown",
   "metadata": {},
   "source": [
    "\n",
    "<h2 id=\"Gaussian-Mixture\">Gaussian Mixture<a class=\"anchor-link\" href=\"#Gaussian-Mixture\">¶</a></h2>\n"
   ]
  },
  {
   "cell_type": "markdown",
   "metadata": {},
   "source": [
    "\n",
    "<p>Let's create clusters using Gaussian Mixture Models</p>\n"
   ]
  },
  {
   "cell_type": "markdown",
   "metadata": {},
   "source": [
    "\n",
    "<h4 id=\"Question-6:\">Question 6:<a class=\"anchor-link\" href=\"#Question-6:\">¶</a></h4><ul>\n",
    "<li><strong>Apply the Gaussian Mixture algorithm on the scaled data with random_state=1 (2 Marks)</strong> </li>\n",
    "<li><strong>Create cluster profiles using the below summary statistics and box plots for each label (2 Marks)</strong></li>\n",
    "<li><strong>Compare the clusters from both algorithms - K-means and Gaussian Mixture (1 Mark)</strong></li>\n",
    "</ul>\n"
   ]
  },
  {
   "cell_type": "code",
   "execution_count": null,
   "metadata": {},
   "outputs": [],
   "source": [
    "\n",
    "\n",
    "gmm = GaussianMixture(n_components = 3, random_state = 1) #Apply the Gaussian Mixture algorithm\n",
    "gmm.fit(data_scaled) #Fit the gmm function on the scaled data\n",
    "\n",
    "data_scaled_copy['GmmLabels'] = gmm.predict(data_scaled)\n",
    "data['GmmLabels'] = gmm.predict(data_scaled)\n",
    "\n",
    "\n"
   ]
  },
  {
   "cell_type": "code",
   "execution_count": null,
   "metadata": {},
   "outputs": [],
   "source": [
    "\n",
    "\n",
    "#Number of observations in each cluster\n",
    "data.GmmLabels.value_counts()\n",
    "\n",
    "\n"
   ]
  },
  {
   "cell_type": "code",
   "execution_count": null,
   "metadata": {},
   "outputs": [],
   "source": [
    "\n",
    "\n",
    "#Calculating summary statistics of the original data for each label\n",
    "original_features = [\"Avg_Credit_Limit\",\"Total_Credit_Cards\",\"Total_visits_bank\",\"Total_visits_online\",\"Total_calls_made\"]\n",
    "\n",
    "mean = data.groupby('GmmLabels').mean()\n",
    "median = data.groupby('GmmLabels').median()\n",
    "df_gmm = pd.concat([mean, median], axis=0)\n",
    "df_gmm.index = ['group_0 Mean', 'group_1 Mean', 'group_2 Mean', 'group_0 Median', 'group_1 Median', 'group_2 Median']\n",
    "df_gmm[original_features].T\n",
    "\n",
    "\n"
   ]
  },
  {
   "cell_type": "code",
   "execution_count": null,
   "metadata": {},
   "outputs": [],
   "source": [
    "\n",
    "\n",
    "# plotting boxplots with the new GMM based labels\n",
    "\n",
    "features_with_lables = [\"Avg_Credit_Limit\",\"Total_Credit_Cards\",\"Total_visits_bank\",\"Total_visits_online\",\"Total_calls_made\",\"GmmLabels\"]\n",
    "\n",
    "data_scaled_copy[features_with_lables].boxplot(by = 'GmmLabels', layout = (1,5),figsize=(20,7))\n",
    "plt.show()\n",
    "\n",
    "\n"
   ]
  },
  {
   "cell_type": "markdown",
   "metadata": {},
   "source": [
    "\n",
    "<p><strong>Cluster Profiles:Profiles seem to hold true from KMeasn</strong></p>\n",
    "<p><strong>Comparing Clusters:Cluster 0 has the lowest credit limit with the least amount of credit cards. Cluster 2 is over 3 times as likely to visit the bank online vs the other clusters. Cluster 0 is significantly more likely to call than the other two. </strong></p>\n"
   ]
  },
  {
   "cell_type": "markdown",
   "metadata": {},
   "source": [
    "\n",
    "<h2 id=\"K-Medoids\">K-Medoids<a class=\"anchor-link\" href=\"#K-Medoids\">¶</a></h2>\n"
   ]
  },
  {
   "cell_type": "markdown",
   "metadata": {},
   "source": [
    "\n",
    "<h4 id=\"Question-7:\">Question 7:<a class=\"anchor-link\" href=\"#Question-7:\">¶</a></h4><ul>\n",
    "<li><strong>Apply the K-Mediods on the scaled data with random_state=1 (2 Marks)</strong> </li>\n",
    "<li><strong>Create cluster profiles using the below summary statistics and box plots for each label (2 Marks)</strong></li>\n",
    "<li><strong>Compare the clusters from both algorithms - K-Means and K-Medoids (2 Marks)</strong></li>\n",
    "</ul>\n"
   ]
  },
  {
   "cell_type": "code",
   "execution_count": null,
   "metadata": {},
   "outputs": [],
   "source": [
    "\n",
    "\n",
    "kmedo = KMedoids(n_clusters = 3, random_state=1) #Apply the K-Medoids algorithm\n",
    "kmedo.fit(data_scaled) #Fit the kmedo function on the scaled data\n",
    "\n",
    "data_scaled_copy['kmedoLabels'] = kmedo.predict(data_scaled)\n",
    "data['kmedoLabels'] = kmedo.predict(data_scaled)\n",
    "\n",
    "\n"
   ]
  },
  {
   "cell_type": "code",
   "execution_count": null,
   "metadata": {},
   "outputs": [],
   "source": [
    "\n",
    "\n",
    "#Number of observations in each cluster\n",
    "data.kmedoLabels.value_counts()\n",
    "\n",
    "\n"
   ]
  },
  {
   "cell_type": "code",
   "execution_count": null,
   "metadata": {},
   "outputs": [],
   "source": [
    "\n",
    "\n",
    "#Calculating summary statistics of the original data for each label\n",
    "mean = data.groupby('kmedoLabels').mean()\n",
    "median = data.groupby('kmedoLabels').median()\n",
    "df_kmedoids = pd.concat([mean, median], axis=0)\n",
    "df_kmedoids.index = ['group_0 Mean', 'group_1 Mean', 'group_2 Mean', 'group_0 Median', 'group_1 Median', 'group_2 Median']\n",
    "df_kmedoids[original_features].T\n",
    "\n",
    "\n"
   ]
  },
  {
   "cell_type": "code",
   "execution_count": null,
   "metadata": {},
   "outputs": [],
   "source": [
    "\n",
    "\n",
    "#plotting boxplots with the new K-Medoids based labels\n",
    "\n",
    "features_with_lables = [\"Avg_Credit_Limit\",\t\"Total_Credit_Cards\",\"Total_visits_bank\",\"Total_visits_online\",\"Total_calls_made\",\"kmedoLabels\"]\n",
    "\n",
    "data_scaled_copy[features_with_lables].boxplot(by = 'kmedoLabels', layout = (1,5),figsize=(20,7))\n",
    "plt.show()\n",
    "\n",
    "\n"
   ]
  },
  {
   "cell_type": "markdown",
   "metadata": {},
   "source": [
    "\n",
    "<p>Let's compare the clusters from K-Means and K-Medoids</p>\n"
   ]
  },
  {
   "cell_type": "code",
   "execution_count": null,
   "metadata": {},
   "outputs": [],
   "source": [
    "\n",
    "\n",
    "comparison = pd.concat([df_kmedoids, df_kmeans], axis=1)[original_features]\n",
    "comparison\n",
    "\n",
    "\n"
   ]
  },
  {
   "cell_type": "markdown",
   "metadata": {},
   "source": [
    "\n",
    "<p><strong>Cluster Profiles:Cluster 0 has the least amount of credit cards and the lowest credit limit. This is the group that is most likely to call the bank vs any other contact method. \n",
    "Cluster 1 is the group with the widest range on credit limit and total credit cards. They are more likely to visit the bank online. \n",
    "Cluster 2 is most like to visit the pank in person. Their credit limits and credit cards float somewhere in the middle of the pack.  </strong></p>\n",
    "<p><strong>Comparing Clusters:Cluster 2 is 3 times as likely to visit the bank as either of the others. Group 1 is more liekly to visit online and Group 0 will have the least amount of credit cards. </strong></p>\n"
   ]
  }
 ],
 "metadata": {
  "language_info": {
   "name": "python"
  }
 },
 "nbformat": 4,
 "nbformat_minor": 1
}

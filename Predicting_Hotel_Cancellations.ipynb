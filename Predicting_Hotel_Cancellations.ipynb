{
 "cells": [
  {
   "cell_type": "markdown",
   "metadata": {},
   "source": [
    "\n",
    "<h1 id=\"Project:-Classification---Hotel-Booking-Cancellation-Prediction\">Project: Classification - Hotel Booking Cancellation Prediction<a class=\"anchor-link\" href=\"#Project:-Classification---Hotel-Booking-Cancellation-Prediction\">¶</a></h2><p>Welcome to the project on classification. We will use the INN Hotels dataset for this problem.</p>\n"
   ]
  },
  {
   "cell_type": "markdown",
   "metadata": {},
   "source": [
    "\n",
    "<h2 id=\"Context\">Context<a class=\"anchor-link\" href=\"#Context\">¶</a></h2><p>A significant number of hotel bookings are called off due to cancellations or no-shows. The typical reasons for cancellations include change of plans, scheduling conflicts, etc. This is often made easier by the option to do so free of charge or preferably at a low cost which is beneficial to hotel guests but it is a less desirable and possibly revenue-diminishing factor for hotels to deal with. Such losses are particularly high on last-minute cancellations.</p>\n",
    "<p>The new technologies involving online booking channels have dramatically changed customers' booking possibilities and behavior. This adds a further dimension to the challenge of how hotels handle cancellations, which are no longer limited to traditional booking and guest characteristics.</p>\n",
    "<p>The cancellation of bookings impact a hotel on various fronts:</p>\n",
    "<ol>\n",
    "<li>Loss of resources (revenue) when the hotel cannot resell the room.</li>\n",
    "<li>Additional costs of distribution channels by increasing commissions or paying for publicity to help sell these rooms.</li>\n",
    "<li>Lowering prices last minute, so the hotel can resell a room, resulting in reducing the profit margin.</li>\n",
    "<li>Human resources to make arrangements for the guests.</li>\n",
    "</ol>\n",
    "<h2 id=\"Objective\">Objective<a class=\"anchor-link\" href=\"#Objective\">¶</a></h2><p>The increasing number of cancellations calls for a Machine Learning based solution that can help in predicting which booking is likely to be canceled. INN Hotels Group has a chain of hotels in Portugal, they are facing problems with the high number of booking cancellations and have reached out to your firm for data-driven solutions. You as a data scientist have to analyze the data provided to find which factors have a high influence on booking cancellations, build a predictive model that can predict which booking is going to be canceled in advance, and help in formulating profitable policies for cancellations and refunds.</p>\n",
    "<h2 id=\"Data-Description\">Data Description<a class=\"anchor-link\" href=\"#Data-Description\">¶</a></h2><p>The data contains the different attributes of customers' booking details. The detailed data dictionary is given below.</p>\n",
    "<p><strong>Data Dictionary</strong></p>\n",
    "<ul>\n",
    "<li>Booking_ID: unique identifier of each booking</li>\n",
    "<li>no_of_adults: Number of adults</li>\n",
    "<li>no_of_children: Number of Children</li>\n",
    "<li>no_of_weekend_nights: Number of weekend nights (Saturday or Sunday) the guest stayed or booked to stay at the hotel</li>\n",
    "<li>no_of_week_nights: Number of week nights (Monday to Friday) the guest stayed or booked to stay at the hotel</li>\n",
    "<li>type_of_meal_plan: Type of meal plan booked by the customer:<ul>\n",
    "<li>Not Selected – No meal plan selected</li>\n",
    "<li>Meal Plan 1 – Breakfast</li>\n",
    "<li>Meal Plan 2 – Half board (breakfast and one other meal)</li>\n",
    "<li>Meal Plan 3 – Full board (breakfast, lunch, and dinner)</li>\n",
    "</ul>\n",
    "</li>\n",
    "<li>required_car_parking_space: Does the customer require a car parking space? (0 - No, 1- Yes)</li>\n",
    "<li>room_type_reserved: Type of room reserved by the customer. The values are ciphered (encoded) by INN Hotels.</li>\n",
    "<li>lead_time: Number of days between the date of booking and the arrival date</li>\n",
    "<li>arrival_year: Year of arrival date</li>\n",
    "<li>arrival_month: Month of arrival date</li>\n",
    "<li>arrival_date: Date of the month</li>\n",
    "<li>market_segment_type: Market segment designation.</li>\n",
    "<li>repeated_guest: Is the customer a repeated guest? (0 - No, 1- Yes)</li>\n",
    "<li>no_of_previous_cancellations: Number of previous bookings that were canceled by the customer prior to the current booking</li>\n",
    "<li>no_of_previous_bookings_not_canceled: Number of previous bookings not canceled by the customer prior to the current booking</li>\n",
    "<li>avg_price_per_room: Average price per day of the reservation; prices of the rooms are dynamic. (in euros)</li>\n",
    "<li>no_of_special_requests: Total number of special requests made by the customer (e.g. high floor, view from the room, etc)</li>\n",
    "<li>booking_status: Flag indicating if the booking was canceled or not.</li>\n",
    "</ul>\n"
   ]
  },
  {
   "cell_type": "markdown",
   "metadata": {},
   "source": [
    "\n",
    "<h2 id=\"Importing-necessary-libraries-and-overview-of-the-dataset\">Importing necessary libraries and overview of the dataset<a class=\"anchor-link\" href=\"#Importing-necessary-libraries-and-overview-of-the-dataset\">¶</a></h2>\n"
   ]
  },
  {
   "cell_type": "code",
   "execution_count": null,
   "metadata": {},
   "outputs": [],
   "source": [
    "\n",
    "\n",
    "import warnings\n",
    "warnings.filterwarnings(\"ignore\")\n",
    "\n",
    "import pandas as pd\n",
    "import numpy as np\n",
    "import matplotlib.pyplot as plt\n",
    "import seaborn as sns\n",
    "\n",
    "#To scale the data using z-score \n",
    "from sklearn.preprocessing import StandardScaler\n",
    "\n",
    "from sklearn.model_selection import train_test_split\n",
    "\n",
    "#Algorithms to use\n",
    "from sklearn.linear_model import LogisticRegression\n",
    "from sklearn.neighbors import KNeighborsClassifier\n",
    "\n",
    "#To tune the model\n",
    "from sklearn.model_selection import GridSearchCV\n",
    "\n",
    "#Metrics to evaluate the model\n",
    "from sklearn.metrics import confusion_matrix, classification_report, precision_recall_curve\n",
    "\n",
    "\n"
   ]
  },
  {
   "cell_type": "markdown",
   "metadata": {},
   "source": [
    "\n",
    "<h4 id=\"Loading-data\">Loading data<a class=\"anchor-link\" href=\"#Loading-data\">¶</a></h4>\n"
   ]
  },
  {
   "cell_type": "code",
   "execution_count": null,
   "metadata": {},
   "outputs": [],
   "source": [
    "\n",
    "\n",
    "hotel = pd.read_csv(\"INNHotelsGroup.csv\")\n",
    "\n",
    "\n"
   ]
  },
  {
   "cell_type": "code",
   "execution_count": null,
   "metadata": {},
   "outputs": [],
   "source": [
    "\n",
    "\n",
    "# copying data to another variable to avoid any changes to original data\n",
    "data = hotel.copy()\n",
    "\n",
    "\n"
   ]
  },
  {
   "cell_type": "markdown",
   "metadata": {},
   "source": [
    "\n",
    "<h4 id=\"View-the-first-and-last-5-rows-of-the-dataset\">View the first and last 5 rows of the dataset<a class=\"anchor-link\" href=\"#View-the-first-and-last-5-rows-of-the-dataset\">¶</a></h4>\n"
   ]
  },
  {
   "cell_type": "code",
   "execution_count": null,
   "metadata": {},
   "outputs": [],
   "source": [
    "\n",
    "\n",
    "data.head()\n",
    "\n",
    "\n"
   ]
  },
  {
   "cell_type": "code",
   "execution_count": null,
   "metadata": {},
   "outputs": [],
   "source": [
    "\n",
    "\n",
    "data.tail()\n",
    "\n",
    "\n"
   ]
  },
  {
   "cell_type": "markdown",
   "metadata": {},
   "source": [
    "\n",
    "<h4 id=\"Check-the-info-of-the-data\">Check the info of the data<a class=\"anchor-link\" href=\"#Check-the-info-of-the-data\">¶</a></h4>\n"
   ]
  },
  {
   "cell_type": "code",
   "execution_count": null,
   "metadata": {},
   "outputs": [],
   "source": [
    "\n",
    "\n",
    "data.info()\n",
    "\n",
    "\n"
   ]
  },
  {
   "cell_type": "markdown",
   "metadata": {},
   "source": [
    "\n",
    "<ul>\n",
    "<li><p>The dataset has <strong>36,275 rows and 19 columns</strong>.</p>\n",
    "</li>\n",
    "<li><p><code>Booking_ID</code>, <code>type_of_meal_plan</code>, <code>room_type_reserved</code>, <code>market_segment_type</code>, and <code>booking_status</code> are of <strong>object type</strong> while rest columns are numeric in nature.</p>\n",
    "</li>\n",
    "<li><p>There are <strong>no null values</strong> in the dataset.</p>\n",
    "</li>\n",
    "<li><p><strong>Booking_ID column is an identifier</strong>. Let's check if each entry of the column is unique.</p>\n",
    "</li>\n",
    "</ul>\n"
   ]
  },
  {
   "cell_type": "code",
   "execution_count": null,
   "metadata": {},
   "outputs": [],
   "source": [
    "\n",
    "\n",
    "data.Booking_ID.nunique()\n",
    "\n",
    "\n"
   ]
  },
  {
   "cell_type": "markdown",
   "metadata": {},
   "source": [
    "\n",
    "<p><strong>Observations:</strong></p>\n",
    "<ul>\n",
    "<li>We can see that <strong>all the entries of this column are unique</strong>. Hence, this column would not add any value to our analysis. </li>\n",
    "<li>Let's drop this column.</li>\n",
    "</ul>\n"
   ]
  },
  {
   "cell_type": "markdown",
   "metadata": {},
   "source": [
    "\n",
    "<h4 id=\"Dropping-the-Booking_ID-column\">Dropping the Booking_ID column<a class=\"anchor-link\" href=\"#Dropping-the-Booking_ID-column\">¶</a></h4>\n"
   ]
  },
  {
   "cell_type": "code",
   "execution_count": null,
   "metadata": {},
   "outputs": [],
   "source": [
    "\n",
    "\n",
    "data = data.drop([\"Booking_ID\"], axis=1)\n",
    "\n",
    "\n"
   ]
  },
  {
   "cell_type": "code",
   "execution_count": null,
   "metadata": {},
   "outputs": [],
   "source": [
    "\n",
    "\n",
    "data.head()\n",
    "\n",
    "\n"
   ]
  },
  {
   "cell_type": "markdown",
   "metadata": {},
   "source": [
    "\n",
    "<h2 id=\"Exploratory-Data-Analysis\">Exploratory Data Analysis<a class=\"anchor-link\" href=\"#Exploratory-Data-Analysis\">¶</a></h2>\n"
   ]
  },
  {
   "cell_type": "markdown",
   "metadata": {},
   "source": [
    "\n",
    "<h4 id=\"Summary-Statistics-for-numerical-columns\">Summary Statistics for numerical columns<a class=\"anchor-link\" href=\"#Summary-Statistics-for-numerical-columns\">¶</a></h4>\n"
   ]
  },
  {
   "cell_type": "markdown",
   "metadata": {},
   "source": [
    "\n",
    "<h4 id=\"Question-1:-Write-the-observations-from-the-below-summary-statistics-(2-Marks)\">Question 1: Write the observations from the below summary statistics (2 Marks)<a class=\"anchor-link\" href=\"#Question-1:-Write-the-observations-from-the-below-summary-statistics-(2-Marks)\">¶</a></h4>\n"
   ]
  },
  {
   "cell_type": "code",
   "execution_count": null,
   "metadata": {},
   "outputs": [],
   "source": [
    "\n",
    "\n",
    "#Selecting numerical columns and checking summary statistics\n",
    "num_cols = data.select_dtypes('number').columns\n",
    "\n",
    "data[num_cols].describe().T\n",
    "\n",
    "\n"
   ]
  },
  {
   "cell_type": "markdown",
   "metadata": {},
   "source": [
    "\n",
    "<p><strong>Observations:Highest number of cancelations is 13 which is pretty interesting. Especially since the average is close to 0. We also have very few repeat guests, and no one repeats more than once. It looks like chidren are not typcially brought but on some occations there can be quite a large amount. The lowest average price of a room is 0, that is probably an error someone made. </strong></p>\n"
   ]
  },
  {
   "cell_type": "code",
   "execution_count": null,
   "metadata": {},
   "outputs": [],
   "source": [
    "\n",
    "\n",
    "#Checking the rows where avg_price_per_room is 0\n",
    "data[data[\"avg_price_per_room\"] == 0]\n",
    "\n",
    "\n"
   ]
  },
  {
   "cell_type": "markdown",
   "metadata": {},
   "source": [
    "\n",
    "<ul>\n",
    "<li>In the market segment column, it looks like <strong>many values are complementary</strong>. Let's check the market segment where the room prices are equal to 0.</li>\n",
    "</ul>\n"
   ]
  },
  {
   "cell_type": "code",
   "execution_count": null,
   "metadata": {},
   "outputs": [],
   "source": [
    "\n",
    "\n",
    "data.loc[data[\"avg_price_per_room\"] == 0, \"market_segment_type\"].value_counts()\n",
    "\n",
    "\n"
   ]
  },
  {
   "cell_type": "markdown",
   "metadata": {},
   "source": [
    "\n",
    "<ul>\n",
    "<li>It makes sense that most values with room prices equal to 0 are the rooms given as complimentary service given by the hotel.</li>\n",
    "<li>The rooms booked online might be a part of some promotional campaign done by the hotel. We will not treat these rows as we don't have the data to test this claim.</li>\n",
    "</ul>\n"
   ]
  },
  {
   "cell_type": "markdown",
   "metadata": {},
   "source": [
    "\n",
    "<h4 id=\"Check-the-distribution-and-outliers-for-some-columns-in-the-data\">Check the distribution and outliers for some columns in the data<a class=\"anchor-link\" href=\"#Check-the-distribution-and-outliers-for-some-columns-in-the-data\">¶</a></h4>\n"
   ]
  },
  {
   "cell_type": "code",
   "execution_count": null,
   "metadata": {},
   "outputs": [],
   "source": [
    "\n",
    "\n",
    "for col in ['lead_time', 'no_of_previous_cancellations', 'no_of_previous_bookings_not_canceled', 'avg_price_per_room']:\n",
    "    print(col)\n",
    "    print('Skew :',round(data[col].skew(),2))\n",
    "    plt.figure(figsize=(15,4))\n",
    "    plt.subplot(1,2,1)\n",
    "    data[col].hist(bins=10, grid=False)\n",
    "    plt.ylabel('count')\n",
    "    plt.subplot(1,2,2)\n",
    "    sns.boxplot(x=data[col])\n",
    "    plt.show()\n",
    "\n",
    "\n"
   ]
  },
  {
   "cell_type": "markdown",
   "metadata": {},
   "source": [
    "\n",
    "<ul>\n",
    "<li>The distribution of <strong>lead time is right-skewed</strong>. Many customers have made the booking on the same day of arrival as well. There are many outliers, <strong>some customers made booking more than 400 days in advance</strong>. </li>\n",
    "<li><strong>Very few customers have more than one cancellation</strong>. Some customers canceled more than 12 times.</li>\n",
    "<li><strong>Very few customers have more than 1 booking not canceled previously</strong>. Some customers have not canceled their bookings around 60 times.</li>\n",
    "<li><strong>The distribution of average price per room is skewed to right</strong>. There are outliers on both sides. The median price of a room is around ~100 euros. There is 1 observation where the average price of the room is more than 500 euros. This observation is quite far away from the rest of the values. We can treat this by clipping the value to the upper whisker (Q3 + 1.5 * IQR).</li>\n",
    "</ul>\n"
   ]
  },
  {
   "cell_type": "code",
   "execution_count": null,
   "metadata": {},
   "outputs": [],
   "source": [
    "\n",
    "\n",
    "# Calculating the 25th quantile\n",
    "Q1 = data[\"avg_price_per_room\"].quantile(0.25)\n",
    "\n",
    "# Calculating the 75th quantile\n",
    "Q3 = data[\"avg_price_per_room\"].quantile(0.75)\n",
    "\n",
    "# Calculating IQR\n",
    "IQR = Q3 - Q1\n",
    "\n",
    "# Calculating value of upper whisker\n",
    "Upper_Whisker = Q3 + 1.5 * IQR\n",
    "Upper_Whisker\n",
    "\n",
    "\n"
   ]
  },
  {
   "cell_type": "code",
   "execution_count": null,
   "metadata": {},
   "outputs": [],
   "source": [
    "\n",
    "\n",
    "# assigning the outliers the value of upper whisker\n",
    "data.loc[data[\"avg_price_per_room\"] >= 500, \"avg_price_per_room\"] = Upper_Whisker\n",
    "\n",
    "\n"
   ]
  },
  {
   "cell_type": "markdown",
   "metadata": {},
   "source": [
    "\n",
    "<h4 id=\"Now,-let's-check-percentage-of-each-category-for-some-variables\">Now, let's check percentage of each category for some variables<a class=\"anchor-link\" href=\"#Now,-let's-check-percentage-of-each-category-for-some-variables\">¶</a></h4>\n"
   ]
  },
  {
   "cell_type": "markdown",
   "metadata": {},
   "source": [
    "\n",
    "<h4 id=\"Question-2:\">Question 2:<a class=\"anchor-link\" href=\"#Question-2:\">¶</a></h4><ul>\n",
    "<li><strong>Write the code to check the percentage of each category for columns mentioned below (cat_cols) (2 Marks)</strong></li>\n",
    "<li><strong>Write your observations (2 Marks)</strong></li>\n",
    "</ul>\n"
   ]
  },
  {
   "cell_type": "code",
   "execution_count": null,
   "metadata": {},
   "outputs": [],
   "source": [
    "\n",
    "\n",
    "cat_cols = ['no_of_adults', 'no_of_children', 'no_of_week_nights', 'no_of_weekend_nights', 'required_car_parking_space', \n",
    "        'type_of_meal_plan', 'room_type_reserved', 'arrival_month', 'market_segment_type', 'no_of_special_requests', \n",
    "        'booking_status']\n",
    "    \n",
    "#Write your code here\n",
    "for i in cat_cols:\n",
    "    print(data[i].value_counts(normalize=True))\n",
    "    print('*'*40)\n",
    "\n",
    "\n"
   ]
  },
  {
   "cell_type": "markdown",
   "metadata": {},
   "source": [
    "\n",
    "<p><strong>Observations:The most children are 3, yet there is data for around 10, those values need to be fixed. \n",
    "Partking is required almost all of the time. Aug, Sept, and Oct are the busiest months. </strong></p>\n"
   ]
  },
  {
   "cell_type": "markdown",
   "metadata": {},
   "source": [
    "\n",
    "<p><strong>Replacing values 9 and 10 for the number of children with 3 and encoding the target variable</strong></p>\n"
   ]
  },
  {
   "cell_type": "code",
   "execution_count": null,
   "metadata": {},
   "outputs": [],
   "source": [
    "\n",
    "\n",
    "# replacing 9, and 10 children with 3\n",
    "data[\"no_of_children\"] = data[\"no_of_children\"].replace([9, 10], 3)\n",
    "\n",
    "\n"
   ]
  },
  {
   "cell_type": "code",
   "execution_count": null,
   "metadata": {},
   "outputs": [],
   "source": [
    "\n",
    "\n",
    "data[\"booking_status\"] = data[\"booking_status\"].apply(lambda x: 1 if x == \"Canceled\" else 0)\n",
    "\n",
    "\n"
   ]
  },
  {
   "cell_type": "markdown",
   "metadata": {},
   "source": [
    "\n",
    "<p><strong>We are done with univariate analysis and data preprocessing. Let's explore the data a bit more with bivariate analysis.</strong></p>\n",
    "<p>Let's check the relationship of market segment type with the average price per room.</p>\n"
   ]
  },
  {
   "cell_type": "code",
   "execution_count": null,
   "metadata": {},
   "outputs": [],
   "source": [
    "\n",
    "\n",
    "plt.figure(figsize=(10, 6))\n",
    "sns.boxplot(data=data, x=\"market_segment_type\", y=\"avg_price_per_room\")\n",
    "plt.show()\n",
    "\n",
    "\n"
   ]
  },
  {
   "cell_type": "markdown",
   "metadata": {},
   "source": [
    "\n",
    "<ul>\n",
    "<li><strong>Rooms booked online have the highest variations in prices.</strong></li>\n",
    "<li>The distribution for offline and corporate room prices are almost similar except for some outliers.</li>\n",
    "<li>Complementary market segment gets the rooms at very low prices, which makes sense.</li>\n",
    "</ul>\n"
   ]
  },
  {
   "cell_type": "markdown",
   "metadata": {},
   "source": [
    "\n",
    "<p><strong>Let's see how booking status varies across different market segments. Also, how lead time impacts booking status</strong></p>\n"
   ]
  },
  {
   "cell_type": "code",
   "execution_count": null,
   "metadata": {},
   "outputs": [],
   "source": [
    "\n",
    "\n",
    "plt.figure(figsize=(10, 6))\n",
    "sns.countplot(x='market_segment_type', hue='booking_status', data=data)\n",
    "plt.show()\n",
    "\n",
    "\n"
   ]
  },
  {
   "cell_type": "markdown",
   "metadata": {},
   "source": [
    "\n",
    "<ul>\n",
    "<li><strong>Online bookings have the highest number of cancellations.</strong></li>\n",
    "<li>Bookings made offline are less prone to cancellations.</li>\n",
    "<li>Corporate and complementary segment shows very low cancellations.</li>\n",
    "</ul>\n"
   ]
  },
  {
   "cell_type": "code",
   "execution_count": null,
   "metadata": {},
   "outputs": [],
   "source": [
    "\n",
    "\n",
    "plt.figure(figsize=(10, 6))\n",
    "sns.boxplot(data=data, x=\"booking_status\", y=\"lead_time\")\n",
    "plt.show()\n",
    "\n",
    "\n"
   ]
  },
  {
   "cell_type": "markdown",
   "metadata": {},
   "source": [
    "\n",
    "<ul>\n",
    "<li>There's a big difference in the median value of lead time for bookings that were canceled and bookings that were not canceled. <strong>The higher the lead time higher is the chances of a booking being canceled.</strong></li>\n",
    "</ul>\n"
   ]
  },
  {
   "cell_type": "markdown",
   "metadata": {},
   "source": [
    "\n",
    "<p><strong>Now, let's check how the arrival month impacts the booking status</strong></p>\n"
   ]
  },
  {
   "cell_type": "code",
   "execution_count": null,
   "metadata": {},
   "outputs": [],
   "source": [
    "\n",
    "\n",
    "plt.figure(figsize=(10, 6))\n",
    "sns.countplot(x='arrival_month', hue='booking_status', data=data)\n",
    "plt.show()\n",
    "\n",
    "\n"
   ]
  },
  {
   "cell_type": "markdown",
   "metadata": {},
   "source": [
    "\n",
    "<ul>\n",
    "<li>We observed earlier that the month of October has the highest number of bookings but the above plot shows that <strong>October has the highest number of cancellations</strong> as well.</li>\n",
    "<li>Bookings made for <strong>December and January are less prone to cancellations</strong>.</li>\n",
    "</ul>\n"
   ]
  },
  {
   "cell_type": "markdown",
   "metadata": {},
   "source": [
    "\n",
    "<p><strong>Repeating guests are the guests who stay in the hotel often and are important to brand equity. Let's see what percentage of repeating guests cancel?</strong></p>\n"
   ]
  },
  {
   "cell_type": "code",
   "execution_count": null,
   "metadata": {},
   "outputs": [],
   "source": [
    "\n",
    "\n",
    "plt.figure(figsize=(10, 6))\n",
    "sns.countplot(x='repeated_guest', hue='booking_status', data=data)\n",
    "plt.show()\n",
    "\n",
    "\n"
   ]
  },
  {
   "cell_type": "markdown",
   "metadata": {},
   "source": [
    "\n",
    "<ul>\n",
    "<li>There are <strong>very few repeat customers but the cancellation among them is very less</strong>. This is a good indication as repeat customers are important for the hospitality industry as they can help in spreading the word of mouth.</li>\n",
    "</ul>\n"
   ]
  },
  {
   "cell_type": "markdown",
   "metadata": {},
   "source": [
    "\n",
    "<p><strong>We have explored different combinations of variables. Now, let's see the pairwise correlations between all the variables.</strong></p>\n"
   ]
  },
  {
   "cell_type": "code",
   "execution_count": null,
   "metadata": {},
   "outputs": [],
   "source": [
    "\n",
    "\n",
    "plt.figure(figsize=(12, 7))\n",
    "sns.heatmap(data.corr(), annot=True, fmt=\".2f\")\n",
    "plt.show()\n",
    "\n",
    "\n"
   ]
  },
  {
   "cell_type": "markdown",
   "metadata": {},
   "source": [
    "\n",
    "<ul>\n",
    "<li>There's a <strong>positive correlation between the number of customers (adults and children) and the average price per room</strong>. This makes sense as more the number of customers more rooms they will require thus increasing the cost.</li>\n",
    "<li>There's a <strong>negative correlation between average room price and repeated guests</strong>. The hotel might be giving some loyalty benefits to the customers.</li>\n",
    "<li><strong>Repeated guests have a positive correlation with the number of previous bookings canceled and previous bookings not canceled.</strong> This implies that repeated customers are also likely to cancel their bookings.  </li>\n",
    "<li>There's a positive correlation between lead time and the number of weeknights a customer is planning to stay in the hotel.</li>\n",
    "<li>There's a <strong>positive correlation between booking status and lead time</strong>, indicating higher the lead time higher are the chances of cancellation.</li>\n",
    "<li>There's a negative correlation between the number of special requests from the customer and the booking status, indicating <strong>if a customer has made some special requests the chances of cancellation might decrease</strong></li>\n",
    "</ul>\n"
   ]
  },
  {
   "cell_type": "markdown",
   "metadata": {},
   "source": [
    "\n",
    "<p><strong>Now that we have explored our data, let's prepare it for modeling.</strong></p>\n"
   ]
  },
  {
   "cell_type": "markdown",
   "metadata": {},
   "source": [
    "\n",
    "<h2 id=\"Preparing-data-for-modeling\">Preparing data for modeling<a class=\"anchor-link\" href=\"#Preparing-data-for-modeling\">¶</a></h2>\n"
   ]
  },
  {
   "cell_type": "markdown",
   "metadata": {},
   "source": [
    "\n",
    "<ul>\n",
    "<li>Models cannot take non-numeric inputs. So, we will first create dummy variables for all the categorical variables.</li>\n",
    "<li>We will then split the data into train and test sets.</li>\n",
    "</ul>\n"
   ]
  },
  {
   "cell_type": "markdown",
   "metadata": {},
   "source": [
    "\n",
    "<h4 id=\"Question-3:\">Question 3:<a class=\"anchor-link\" href=\"#Question-3:\">¶</a></h4><ul>\n",
    "<li><strong>Drop the target variable from the original data and store it in a separate dataframe <code>X</code> (1 Mark)</strong></li>\n",
    "<li><strong>Store the target variable in a separate series <code>Y</code> (1 Mark)</strong></li>\n",
    "</ul>\n"
   ]
  },
  {
   "cell_type": "code",
   "execution_count": null,
   "metadata": {},
   "outputs": [],
   "source": [
    "\n",
    "\n",
    "#Remove the blanks and complete the below code\n",
    "X=data.drop(columns = ['booking_status'])\n",
    "Y=data.booking_status\n",
    "\n",
    "\n"
   ]
  },
  {
   "cell_type": "code",
   "execution_count": null,
   "metadata": {},
   "outputs": [],
   "source": [
    "\n",
    "\n",
    "#Creating dummy variables \n",
    "#drop_first=True is used to avoid redundant variables\n",
    "X = pd.get_dummies(X, drop_first=True)\n",
    "\n",
    "\n"
   ]
  },
  {
   "cell_type": "code",
   "execution_count": null,
   "metadata": {},
   "outputs": [],
   "source": [
    "\n",
    "\n",
    "#Splitting the data into train and test sets\n",
    "X_train,X_test,y_train,y_test=train_test_split(X, Y, test_size=0.30, random_state=1)\n",
    "\n",
    "\n"
   ]
  },
  {
   "cell_type": "markdown",
   "metadata": {},
   "source": [
    "\n",
    "<h2 id=\"Building-Classification-Models\">Building Classification Models<a class=\"anchor-link\" href=\"#Building-Classification-Models\">¶</a></h2>\n"
   ]
  },
  {
   "cell_type": "markdown",
   "metadata": {},
   "source": [
    "\n",
    "<p><strong>Before training the model, let's choose the appropriate model evaluation criterion as per the problem on hand.</strong></p>\n",
    "<h3 id=\"Model-evaluation-criterion\">Model evaluation criterion<a class=\"anchor-link\" href=\"#Model-evaluation-criterion\">¶</a></h3><h4 id=\"Model-can-make-wrong-predictions-as:\">Model can make wrong predictions as:<a class=\"anchor-link\" href=\"#Model-can-make-wrong-predictions-as:\">¶</a></h4><ol>\n",
    "<li>Predicting a customer will not cancel their booking but in reality, the customer will cancel their booking.</li>\n",
    "<li>Predicting a customer will cancel their booking but in reality, the customer will not cancel their booking. </li>\n",
    "</ol>\n",
    "<h4 id=\"Which-case-is-more-important?\">Which case is more important?<a class=\"anchor-link\" href=\"#Which-case-is-more-important?\">¶</a></h4><ul>\n",
    "<li><p>Both the cases are important as:</p>\n",
    "</li>\n",
    "<li><p>If we predict that a booking will not be canceled and the booking gets canceled then the hotel will lose resources and will have to bear additional costs of unsold rooms. The hotel might also have to bear an additional cost of advertising the room again on different distribution channels.</p>\n",
    "</li>\n",
    "<li><p>If we predict that a booking will get canceled and the booking doesn't get canceled the hotel might not be able to provide satisfactory services to the customer by assuming that this booking will be canceled. This might damage the brand equity.</p>\n",
    "</li>\n",
    "</ul>\n",
    "<h4 id=\"How-to-reduce-the-losses?\">How to reduce the losses?<a class=\"anchor-link\" href=\"#How-to-reduce-the-losses?\">¶</a></h4><ul>\n",
    "<li>Hotel would want <code>F1 Score</code> to be maximized, greater the F1 score higher are the chances of minimizing False Negatives and False Positives. </li>\n",
    "</ul>\n"
   ]
  },
  {
   "cell_type": "markdown",
   "metadata": {},
   "source": [
    "\n",
    "<p><strong>Also, let's create a function to calculate and print the classification report and confusion matrix so that we don't have to rewrite the same code repeatedly for each model.</strong></p>\n"
   ]
  },
  {
   "cell_type": "code",
   "execution_count": null,
   "metadata": {},
   "outputs": [],
   "source": [
    "\n",
    "\n",
    "#function to print classification report and get confusion matrix in a proper format\n",
    "\n",
    "def metrics_score(actual, predicted):\n",
    "    print(classification_report(actual, predicted))\n",
    "    cm = confusion_matrix(actual, predicted)\n",
    "    plt.figure(figsize=(8,5))\n",
    "    sns.heatmap(cm, annot=True,  fmt='.2f', xticklabels=['Not Canceled', 'Canceled'], yticklabels=['Not Canceled', 'Canceled'])\n",
    "    plt.ylabel('Actual')\n",
    "    plt.xlabel('Predicted')\n",
    "    plt.show()\n",
    "\n",
    "\n"
   ]
  },
  {
   "cell_type": "markdown",
   "metadata": {},
   "source": [
    "\n",
    "<h3 id=\"Logistic-Regression\">Logistic Regression<a class=\"anchor-link\" href=\"#Logistic-Regression\">¶</a></h3>\n"
   ]
  },
  {
   "cell_type": "markdown",
   "metadata": {},
   "source": [
    "\n",
    "<h4 id=\"Question-4:-Fit-the-logistic-regression-model-on-the-train-dataset-using-random_state=1-(2-Marks)\">Question 4: Fit the logistic regression model on the train dataset using random_state=1 (2 Marks)<a class=\"anchor-link\" href=\"#Question-4:-Fit-the-logistic-regression-model-on-the-train-dataset-using-random_state=1-(2-Marks)\">¶</a></h4>\n"
   ]
  },
  {
   "cell_type": "code",
   "execution_count": null,
   "metadata": {},
   "outputs": [],
   "source": [
    "\n",
    "\n",
    "#define logistic regression model \n",
    "log_reg= LogisticRegression() #write your code here\n",
    "\n",
    "#fit the model\n",
    "#write you code here\n",
    "log_reg.fit(X_train,y_train)\n",
    "\n",
    "\n"
   ]
  },
  {
   "cell_type": "markdown",
   "metadata": {},
   "source": [
    "\n",
    "<p><strong>Let's check the coefficient of each dependent variable in the data</strong></p>\n"
   ]
  },
  {
   "cell_type": "markdown",
   "metadata": {},
   "source": [
    "\n",
    "<h4 id=\"Question-5:-Write-your-observations-on-the-below-coefficients-obtained-from-the-logistic-regression-model-(3-Marks)\">Question 5: Write your observations on the below coefficients obtained from the logistic regression model (3 Marks)<a class=\"anchor-link\" href=\"#Question-5:-Write-your-observations-on-the-below-coefficients-obtained-from-the-logistic-regression-model-(3-Marks)\">¶</a></h4>\n"
   ]
  },
  {
   "cell_type": "code",
   "execution_count": null,
   "metadata": {},
   "outputs": [],
   "source": [
    "\n",
    "\n",
    "pd.Series(log_reg.coef_[0], index=X_train.columns).sort_values(ascending=False)\n",
    "\n",
    "\n"
   ]
  },
  {
   "cell_type": "markdown",
   "metadata": {},
   "source": [
    "\n",
    "<p><strong>Observations:marekt_segment_type_Online seems to be the most important feature with type_of_meal_plan_Not_Selected coming in as the second. We can guess that people who book online and don't pick a meal plan are more likely to cancel their reservation. On the other side, no_of_special_requests has the highest impact of not canceling reservaitons. </strong></p>\n"
   ]
  },
  {
   "cell_type": "markdown",
   "metadata": {},
   "source": [
    "\n",
    "<h4 id=\"Question-6:-Write-your-interpretations-of-the-odds-calculated-from-the-logistic-regression-model-coefficients-(3-Marks)\">Question 6: Write your interpretations of the odds calculated from the logistic regression model coefficients (3 Marks)<a class=\"anchor-link\" href=\"#Question-6:-Write-your-interpretations-of-the-odds-calculated-from-the-logistic-regression-model-coefficients-(3-Marks)\">¶</a></h4>\n"
   ]
  },
  {
   "cell_type": "code",
   "execution_count": null,
   "metadata": {},
   "outputs": [],
   "source": [
    "\n",
    "\n",
    "odds = np.exp(log_reg.coef_[0]) #finding the odds\n",
    "\n",
    "# adding the odds to a dataframe and sorting the values\n",
    "pd.DataFrame(odds, X_train.columns, columns=['odds']).sort_values(by='odds', ascending=False) \n",
    "\n",
    "\n"
   ]
  },
  {
   "cell_type": "markdown",
   "metadata": {},
   "source": [
    "\n",
    "<p><strong>Observations:Odds of someone canceling when the book online is 80% higher than when they book another way. The odds of someone canceling are 80% lower when the make special requests. The odds of someone canceling are amost 40% higher when they do not select a meal plan. </strong></p>\n"
   ]
  },
  {
   "cell_type": "markdown",
   "metadata": {},
   "source": [
    "\n",
    "<p><strong>Now, let's check the performance of the model on the training set</strong></p>\n"
   ]
  },
  {
   "cell_type": "markdown",
   "metadata": {},
   "source": [
    "\n",
    "<h4 id=\"Question-7:-Check-the-performance-on-the-training-data-and-write-your-observations-from-the-classification-report-and-confusion-matrix-for-the-training-set-(3-Marks)\">Question 7: Check the performance on the training data and write your observations from the classification report and confusion matrix for the training set (3 Marks)<a class=\"anchor-link\" href=\"#Question-7:-Check-the-performance-on-the-training-data-and-write-your-observations-from-the-classification-report-and-confusion-matrix-for-the-training-set-(3-Marks)\">¶</a></h4>\n"
   ]
  },
  {
   "cell_type": "code",
   "execution_count": null,
   "metadata": {},
   "outputs": [],
   "source": [
    "\n",
    "\n",
    "# Checking performance on the training data\n",
    "y_pred_train = log_reg.predict(X_train)\n",
    "metrics_score(y_train, y_pred_train)\n",
    "\n",
    "\n"
   ]
  },
  {
   "cell_type": "markdown",
   "metadata": {},
   "source": [
    "\n",
    "<p><strong>Reading confusion matrix (clockwise):</strong></p>\n",
    "<ul>\n",
    "<li><strong>True Positive</strong>: Predicting the customer will not cancel the booking and the customer does not cancel the booking</li>\n",
    "<li><strong>False Negative</strong>: Predicting the customer will cancel the booking but the customer does not cancel the booking</li>\n",
    "<li><strong>True Negative</strong>: Predicting the customer will cancel the booking and the customer cancels the booking</li>\n",
    "<li><strong>False Positive</strong>: Predicting the customer will not cancel the booking but the customer cancels the booking</li>\n",
    "</ul>\n"
   ]
  },
  {
   "cell_type": "markdown",
   "metadata": {},
   "source": [
    "\n",
    "<p><strong>Observations:This model does a very good job at identifying True Positive and minimizing False Negatives. However, True Negatives and False Positives did not fair so well. </strong></p>\n"
   ]
  },
  {
   "cell_type": "markdown",
   "metadata": {},
   "source": [
    "\n",
    "<p><strong>Precision-Recall Curve for Logistic Regression</strong></p>\n"
   ]
  },
  {
   "cell_type": "code",
   "execution_count": null,
   "metadata": {},
   "outputs": [],
   "source": [
    "\n",
    "\n",
    "y_scores=log_reg.predict_proba(X_train) #predict_proba gives the probability of each observation belonging to each class\n",
    "\n",
    "\n",
    "precisions, recalls, thresholds = precision_recall_curve(y_train, y_scores[:,1])\n",
    "\n",
    "#Plot values of precisions, recalls, and thresholds\n",
    "plt.figure(figsize=(10,7))\n",
    "plt.plot(thresholds, precisions[:-1], 'b--', label='precision')\n",
    "plt.plot(thresholds, recalls[:-1], 'g--', label = 'recall')\n",
    "plt.xlabel('Threshold')\n",
    "plt.legend(loc='upper left')\n",
    "plt.ylim([0,1])\n",
    "plt.show()\n",
    "\n",
    "\n"
   ]
  },
  {
   "cell_type": "markdown",
   "metadata": {},
   "source": [
    "\n",
    "<p><strong>Observations:</strong></p>\n",
    "<ul>\n",
    "<li>We can see that <strong>precision and recall are balanced for the threshold of about 0.4.</strong></li>\n",
    "<li>Let's try to calculate the exact threshold where precision and recall are equal.</li>\n",
    "</ul>\n"
   ]
  },
  {
   "cell_type": "code",
   "execution_count": null,
   "metadata": {},
   "outputs": [],
   "source": [
    "\n",
    "\n",
    "#calculating the exact threshold where precision and recall are equal.\n",
    "for i in np.arange(len(thresholds)):\n",
    "    if precisions[i]==recalls[i]:\n",
    "        print(thresholds[i])\n",
    "\n",
    "\n"
   ]
  },
  {
   "cell_type": "markdown",
   "metadata": {},
   "source": [
    "\n",
    "<ul>\n",
    "<li>The threshold of 0.42 would give a balanced precision and recall.</li>\n",
    "</ul>\n"
   ]
  },
  {
   "cell_type": "markdown",
   "metadata": {},
   "source": [
    "\n",
    "<h4 id=\"Question-8:-Compare-the-performance-of-the-model-on-training-and-testing-sets-after-changing-the-threshold-(2-Marks)\">Question 8: Compare the performance of the model on training and testing sets after changing the threshold (2 Marks)<a class=\"anchor-link\" href=\"#Question-8:-Compare-the-performance-of-the-model-on-training-and-testing-sets-after-changing-the-threshold-(2-Marks)\">¶</a></h4>\n"
   ]
  },
  {
   "cell_type": "code",
   "execution_count": null,
   "metadata": {},
   "outputs": [],
   "source": [
    "\n",
    "\n",
    "optimal_threshold1 = 0.42\n",
    "metrics_score(y_train, y_scores[:,1]>optimal_threshold1)\n",
    "\n",
    "\n"
   ]
  },
  {
   "cell_type": "markdown",
   "metadata": {},
   "source": [
    "\n",
    "<p><strong>Let's check the performance of the model on the test data</strong></p>\n"
   ]
  },
  {
   "cell_type": "code",
   "execution_count": null,
   "metadata": {},
   "outputs": [],
   "source": [
    "\n",
    "\n",
    "#Checking performance on the testing data\n",
    "y_pred_test = log_reg.predict_proba(X_test)\n",
    "metrics_score(y_test, y_pred_test[:,1]>optimal_threshold1)\n",
    "\n",
    "\n"
   ]
  },
  {
   "cell_type": "markdown",
   "metadata": {},
   "source": [
    "\n",
    "<p><strong>Observations:The model is behaving very similarly on both the training and test data. </strong></p>\n"
   ]
  },
  {
   "cell_type": "markdown",
   "metadata": {},
   "source": [
    "\n",
    "<h3 id=\"K---Nearest-Neighbors-(KNN)\">K - Nearest Neighbors (KNN)<a class=\"anchor-link\" href=\"#K---Nearest-Neighbors-(KNN)\">¶</a></h3>\n"
   ]
  },
  {
   "cell_type": "markdown",
   "metadata": {},
   "source": [
    "\n",
    "<ul>\n",
    "<li>KNN is a distance based algorithm and all distance based algorithms are affected by the scale of the data.</li>\n",
    "<li>We will scale the attributes (dataframe X defined above) before building the KNN model.</li>\n",
    "<li>Then We need to identify the value of K to be used in KNN. We will use <strong>GridSearchCV</strong> to find the optimal value of K along with other hyperparameters.</li>\n",
    "</ul>\n"
   ]
  },
  {
   "cell_type": "code",
   "execution_count": null,
   "metadata": {},
   "outputs": [],
   "source": [
    "\n",
    "\n",
    "# scaling the data\n",
    "scaler=StandardScaler()\n",
    "X_train_scaled=pd.DataFrame(scaler.fit_transform(X_train), columns=X_train.columns)  #fit_transform the training data\n",
    "X_test_scaled=pd.DataFrame(scaler.transform(X_test), columns=X_test.columns) #transform the testing data\n",
    "\n",
    "\n"
   ]
  },
  {
   "cell_type": "markdown",
   "metadata": {},
   "source": [
    "\n",
    "<h3 id=\"Using-GridSearchCV-for-find-the-value-of-K-and-hyperparameter-tuning\">Using GridSearchCV for find the value of K and hyperparameter tuning<a class=\"anchor-link\" href=\"#Using-GridSearchCV-for-find-the-value-of-K-and-hyperparameter-tuning\">¶</a></h3>\n"
   ]
  },
  {
   "cell_type": "markdown",
   "metadata": {},
   "source": [
    "\n",
    "<p><strong>Points to note:</strong></p>\n",
    "<ul>\n",
    "<li>Hyperparameter tuning is tricky in the sense that there is no direct way to calculate how a change in the hyperparameter value will reduce the loss of your model, so we usually resort to experimentation.</li>\n",
    "<li><strong>Grid search</strong> is a tuning technique that attempts to compute the optimum values of hyperparameters. </li>\n",
    "<li>Grid search is an exhaustive search of values that tries many iterations to compute the optimum values of hyperparameters. So, <strong>it might take up to 30 minutes for the code to run depending on the number of values and hyperparameters passed.</strong> </li>\n",
    "<li><p>The hyperparameters that we are tuning are:</p>\n",
    "<ul>\n",
    "<li><p><strong>n_neighbors</strong>: Number of neighbors to use.</p>\n",
    "</li>\n",
    "<li><p><strong>weights={'uniform', 'distance'}</strong></p>\n",
    "<ul>\n",
    "<li>uniform : uniform weights. All points in each neighborhood are weighted equally.</li>\n",
    "<li>distance : weight points by the inverse of their distance. In this case, closer neighbors of a query point will have a greater influence than neighbors that are further away.</li>\n",
    "</ul>\n",
    "</li>\n",
    "<li><p><strong>p</strong>: When p = 1, this is equivalent to using Manhattan_distance (L1), and Euclidean_distance (L2) is used for p = 2.</p>\n",
    "</li>\n",
    "</ul>\n",
    "</li>\n",
    "</ul>\n"
   ]
  },
  {
   "cell_type": "code",
   "execution_count": null,
   "metadata": {},
   "outputs": [],
   "source": [
    "\n",
    "\n",
    "knn = KNeighborsClassifier()\n",
    "\n",
    "params_knn = {'n_neighbors':np.arange(2,20,2), 'weights':['uniform','distance'], 'p':[1,2]}\n",
    "\n",
    "grid_knn = GridSearchCV(estimator=knn, param_grid=params_knn, scoring='f1', cv=10)\n",
    "\n",
    "model_knn=grid_knn.fit(X_train_scaled,y_train)\n",
    "\n",
    "knn_estimator = model_knn.best_estimator_\n",
    "print(knn_estimator)\n",
    "\n",
    "\n"
   ]
  },
  {
   "cell_type": "markdown",
   "metadata": {},
   "source": [
    "\n",
    "<h4 id=\"Question-9:\">Question 9:<a class=\"anchor-link\" href=\"#Question-9:\">¶</a></h4><ul>\n",
    "<li><strong>Fit the KNN model on the scaled training data using the optimal values of hyperparameters obtained from GridSearchCV (1 mark)</strong></li>\n",
    "<li><strong>Check the performance of the model on the scaled training and testing sets (2 Marks)</strong></li>\n",
    "<li><strong>Compare the performance and write your observations (1 Marks)</strong></li>\n",
    "</ul>\n"
   ]
  },
  {
   "cell_type": "code",
   "execution_count": null,
   "metadata": {},
   "outputs": [],
   "source": [
    "\n",
    "\n",
    "#Fit the KNN model on the scaled training data\n",
    "knn=KNeighborsClassifier(n_neighbors=14)\n",
    "knn.fit(X_train_scaled,y_train)\n",
    "\n",
    "\n"
   ]
  },
  {
   "cell_type": "code",
   "execution_count": null,
   "metadata": {},
   "outputs": [],
   "source": [
    "\n",
    "\n",
    "#Make predictions on the scaled training data and check the performance (using metrics_score function)\n",
    "\n",
    "y_pred_train = knn.predict(X_train_scaled) \n",
    "metrics_score(y_train, y_pred_train)\n",
    "\n",
    "\n"
   ]
  },
  {
   "cell_type": "code",
   "execution_count": null,
   "metadata": {},
   "outputs": [],
   "source": [
    "\n",
    "\n",
    "#Make predictions on the scaled testing data and check the performance (using metrics_score function)\n",
    "y_pred_test = knn.predict(X_test_scaled) \n",
    "metrics_score(y_test, y_pred_test)\n",
    "\n",
    "\n"
   ]
  },
  {
   "cell_type": "markdown",
   "metadata": {},
   "source": [
    "\n",
    "<p><strong>Observations:The test data over all performed slightly worse than the train data but they were very close to being the same. The result metrics were pretty good so the model is fairly accurate and doing a good job and predicting the data. </strong></p>\n"
   ]
  },
  {
   "cell_type": "markdown",
   "metadata": {},
   "source": [
    "\n",
    "<h4 id=\"Question-10:-Write-the-conclusion-on-the-key-factors-that-are-driving-the-approval-of-loan-and-write-your-recommendations-to-the-business-on-how-can-they-minimize-the-number-of-cancellations.-(5-Marks)\">Question 10: Write the conclusion on the key factors that are driving the approval of loan and write your recommendations to the business on how can they minimize the number of cancellations. (5 Marks)<a class=\"anchor-link\" href=\"#Question-10:-Write-the-conclusion-on-the-key-factors-that-are-driving-the-approval-of-loan-and-write-your-recommendations-to-the-business-on-how-can-they-minimize-the-number-of-cancellations.-(5-Marks)\">¶</a></h4>\n"
   ]
  },
  {
   "cell_type": "markdown",
   "metadata": {},
   "source": [
    "\n",
    "<h3 id=\"Conclusion:\">Conclusion:<a class=\"anchor-link\" href=\"#Conclusion:\">¶</a></h3><p>We were able to identify the key attributes that affect hotel cancelations and then build a model to predict the number of cancelations. We tuned the model to increase the performence metrics that resulted in a fairly accuract and precise model.</p>\n"
   ]
  },
  {
   "cell_type": "markdown",
   "metadata": {},
   "source": [
    "\n",
    "<h3 id=\"Recommendations:\">Recommendations:<a class=\"anchor-link\" href=\"#Recommendations:\">¶</a></h3><p>We saw that the number of special request greately reduce the probability of a cancelation. I would recomend to the company to consider the reseverations with multiple special requests as sure things for not canceling their reservation. \n",
    "Other the other side, the highest amount of reservations came from ones that were made online. I would try to encourage as many people as possible to make their reservations in other methods. That will increase the likelyhood of someone not canceling. These are the clients that should be focused on for actaully visiting the hotel.</p>\n"
   ]
  },
  {
   "cell_type": "code",
   "execution_count": null,
   "metadata": {},
   "outputs": [],
   "source": [
    "\n",
    "\n",
    " \n",
    "\n",
    "\n"
   ]
  }
 ],
 "metadata": {
  "language_info": {
   "name": "python"
  }
 },
 "nbformat": 4,
 "nbformat_minor": 1
}
